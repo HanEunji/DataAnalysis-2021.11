{
 "cells": [
  {
   "cell_type": "markdown",
   "metadata": {},
   "source": [
    "# Youtube Ranking"
   ]
  },
  {
   "cell_type": "code",
   "execution_count": 26,
   "metadata": {},
   "outputs": [],
   "source": [
    "from selenium import webdriver\n",
    "from bs4 import BeautifulSoup\n",
    "import time\n",
    "import pandas as pd"
   ]
  },
  {
   "cell_type": "code",
   "execution_count": 27,
   "metadata": {},
   "outputs": [],
   "source": [
    "url = 'https://youtube-rank.com/board/bbs/board.php?bo_table=youtube'\n",
    "driver = webdriver.Chrome('chromedriver.exe')\n",
    "driver.get(url)\n",
    "time.sleep(2)"
   ]
  },
  {
   "cell_type": "code",
   "execution_count": 28,
   "metadata": {},
   "outputs": [
    {
     "data": {
      "text/plain": [
       "100"
      ]
     },
     "execution_count": 28,
     "metadata": {},
     "output_type": "execute_result"
    }
   ],
   "source": [
    "soup = BeautifulSoup(driver.page_source, 'html.parser')\n",
    "channel_list = soup.select('.aos-init')\n",
    "len(channel_list)"
   ]
  },
  {
   "cell_type": "code",
   "execution_count": 29,
   "metadata": {},
   "outputs": [
    {
     "data": {
      "text/plain": [
       "1"
      ]
     },
     "execution_count": 29,
     "metadata": {},
     "output_type": "execute_result"
    }
   ],
   "source": [
    "channel = channel_list[0]\n",
    "rank = channel.select_one('.rank').get_text().strip()\n",
    "rank = int(rank)\n",
    "rank"
   ]
  },
  {
   "cell_type": "code",
   "execution_count": 30,
   "metadata": {},
   "outputs": [
    {
     "data": {
      "text/plain": [
       "'음악/댄스/가수'"
      ]
     },
     "execution_count": 30,
     "metadata": {},
     "output_type": "execute_result"
    }
   ],
   "source": [
    "category = channel.select_one('p.category').get_text().strip()\n",
    "category[1:-1] # 카테고리 앞뒤에 붙은 대괄호 삭제"
   ]
  },
  {
   "cell_type": "code",
   "execution_count": 6,
   "metadata": {},
   "outputs": [
    {
     "data": {
      "text/plain": [
       "'BLACKPINK'"
      ]
     },
     "execution_count": 6,
     "metadata": {},
     "output_type": "execute_result"
    }
   ],
   "source": [
    "title = channel.select_one('.subject a').get_text().strip() # subject 하위의 a 태그\n",
    "title"
   ]
  },
  {
   "cell_type": "code",
   "execution_count": 7,
   "metadata": {},
   "outputs": [
    {
     "data": {
      "text/plain": [
       "('7020만', '214억5709만', '395개')"
      ]
     },
     "execution_count": 7,
     "metadata": {},
     "output_type": "execute_result"
    }
   ],
   "source": [
    "subscriber = channel.select_one('.subscriber_cnt').get_text().strip()\n",
    "view = channel.select_one('.view_cnt').get_text().strip()\n",
    "video = channel.select_one('.video_cnt').get_text().strip()\n",
    "subscriber, view, video"
   ]
  },
  {
   "cell_type": "markdown",
   "metadata": {},
   "source": [
    "- 반복문으로 페이지 안의 데이터 수집"
   ]
  },
  {
   "cell_type": "code",
   "execution_count": 8,
   "metadata": {},
   "outputs": [],
   "source": [
    "lines = []\n",
    "for channel in channel_list:\n",
    "    rank = int(channel.select_one('.rank').get_text().strip())\n",
    "    category = channel.select_one('p.category').get_text().strip()\n",
    "    title = channel.select_one('.subject a').get_text().strip()\n",
    "    subscriber = channel.select_one('.subscriber_cnt').get_text().strip()\n",
    "    view = channel.select_one('.view_cnt').get_text().strip()\n",
    "    video = channel.select_one('.video_cnt').get_text().strip()\n",
    "    lines.append([rank, category[1:-1], title, subscriber, view, video])"
   ]
  },
  {
   "cell_type": "code",
   "execution_count": 140,
   "metadata": {},
   "outputs": [
    {
     "data": {
      "text/html": [
       "<div>\n",
       "<style scoped>\n",
       "    .dataframe tbody tr th:only-of-type {\n",
       "        vertical-align: middle;\n",
       "    }\n",
       "\n",
       "    .dataframe tbody tr th {\n",
       "        vertical-align: top;\n",
       "    }\n",
       "\n",
       "    .dataframe thead th {\n",
       "        text-align: right;\n",
       "    }\n",
       "</style>\n",
       "<table border=\"1\" class=\"dataframe\">\n",
       "  <thead>\n",
       "    <tr style=\"text-align: right;\">\n",
       "      <th></th>\n",
       "      <th>순위</th>\n",
       "      <th>카테고리</th>\n",
       "      <th>채널명</th>\n",
       "      <th>구독자수</th>\n",
       "      <th>조회수</th>\n",
       "      <th>영상수</th>\n",
       "    </tr>\n",
       "  </thead>\n",
       "  <tbody>\n",
       "    <tr>\n",
       "      <th>0</th>\n",
       "      <td>1</td>\n",
       "      <td>음악/댄스/가수</td>\n",
       "      <td>BLACKPINK</td>\n",
       "      <td>7020만</td>\n",
       "      <td>214억5709만</td>\n",
       "      <td>395개</td>\n",
       "    </tr>\n",
       "    <tr>\n",
       "      <th>1</th>\n",
       "      <td>2</td>\n",
       "      <td>음악/댄스/가수</td>\n",
       "      <td>HYBE LABELS</td>\n",
       "      <td>6300만</td>\n",
       "      <td>204억9684만</td>\n",
       "      <td>725개</td>\n",
       "    </tr>\n",
       "    <tr>\n",
       "      <th>2</th>\n",
       "      <td>3</td>\n",
       "      <td>음악/댄스/가수</td>\n",
       "      <td>BANGTANTV</td>\n",
       "      <td>6150만</td>\n",
       "      <td>140억7794만</td>\n",
       "      <td>1,646개</td>\n",
       "    </tr>\n",
       "    <tr>\n",
       "      <th>3</th>\n",
       "      <td>4</td>\n",
       "      <td>음악/댄스/가수</td>\n",
       "      <td>SMTOWN</td>\n",
       "      <td>2930만</td>\n",
       "      <td>230억1641만</td>\n",
       "      <td>3,779개</td>\n",
       "    </tr>\n",
       "    <tr>\n",
       "      <th>4</th>\n",
       "      <td>5</td>\n",
       "      <td>키즈/어린이</td>\n",
       "      <td>Boram Tube Vlog [보람튜브 브이로그]</td>\n",
       "      <td>2650만</td>\n",
       "      <td>110억5288만</td>\n",
       "      <td>223개</td>\n",
       "    </tr>\n",
       "  </tbody>\n",
       "</table>\n",
       "</div>"
      ],
      "text/plain": [
       "   순위      카테고리                          채널명   구독자수        조회수     영상수\n",
       "0   1  음악/댄스/가수                    BLACKPINK  7020만  214억5709만    395개\n",
       "1   2  음악/댄스/가수                  HYBE LABELS  6300만  204억9684만    725개\n",
       "2   3  음악/댄스/가수                    BANGTANTV  6150만  140억7794만  1,646개\n",
       "3   4  음악/댄스/가수                       SMTOWN  2930만  230억1641만  3,779개\n",
       "4   5    키즈/어린이  Boram Tube Vlog [보람튜브 브이로그]  2650만  110억5288만    223개"
      ]
     },
     "execution_count": 140,
     "metadata": {},
     "output_type": "execute_result"
    }
   ],
   "source": [
    "df = pd.DataFrame(lines, columns=['순위', '카테고리', '채널명', '구독자수', '조회수', '영상수'])\n",
    "df.head()"
   ]
  },
  {
   "cell_type": "code",
   "execution_count": 141,
   "metadata": {},
   "outputs": [
    {
     "data": {
      "text/html": [
       "<div>\n",
       "<style scoped>\n",
       "    .dataframe tbody tr th:only-of-type {\n",
       "        vertical-align: middle;\n",
       "    }\n",
       "\n",
       "    .dataframe tbody tr th {\n",
       "        vertical-align: top;\n",
       "    }\n",
       "\n",
       "    .dataframe thead th {\n",
       "        text-align: right;\n",
       "    }\n",
       "</style>\n",
       "<table border=\"1\" class=\"dataframe\">\n",
       "  <thead>\n",
       "    <tr style=\"text-align: right;\">\n",
       "      <th></th>\n",
       "      <th>순위</th>\n",
       "      <th>카테고리</th>\n",
       "      <th>채널명</th>\n",
       "      <th>구독자수</th>\n",
       "      <th>조회수</th>\n",
       "      <th>영상수</th>\n",
       "    </tr>\n",
       "  </thead>\n",
       "  <tbody>\n",
       "    <tr>\n",
       "      <th>95</th>\n",
       "      <td>96</td>\n",
       "      <td>키즈/어린이</td>\n",
       "      <td>로미유 스토리[Romiyu Story]</td>\n",
       "      <td>417만</td>\n",
       "      <td>10억9524만</td>\n",
       "      <td>434개</td>\n",
       "    </tr>\n",
       "    <tr>\n",
       "      <th>96</th>\n",
       "      <td>97</td>\n",
       "      <td>음식/요리/레시피</td>\n",
       "      <td>[Dorothy]도로시</td>\n",
       "      <td>416만</td>\n",
       "      <td>9억9800만</td>\n",
       "      <td>905개</td>\n",
       "    </tr>\n",
       "    <tr>\n",
       "      <th>97</th>\n",
       "      <td>98</td>\n",
       "      <td>취미/라이프</td>\n",
       "      <td>JaeYeol ASMR 재열</td>\n",
       "      <td>398만</td>\n",
       "      <td>10억9606만</td>\n",
       "      <td>1,018개</td>\n",
       "    </tr>\n",
       "    <tr>\n",
       "      <th>98</th>\n",
       "      <td>99</td>\n",
       "      <td>키즈/어린이</td>\n",
       "      <td>CoCosToy 꼬꼬스토이</td>\n",
       "      <td>388만</td>\n",
       "      <td>21억8778만</td>\n",
       "      <td>652개</td>\n",
       "    </tr>\n",
       "    <tr>\n",
       "      <th>99</th>\n",
       "      <td>100</td>\n",
       "      <td>BJ/인물/연예인</td>\n",
       "      <td>허팝Heopop</td>\n",
       "      <td>384만</td>\n",
       "      <td>32억6002만</td>\n",
       "      <td>1,900개</td>\n",
       "    </tr>\n",
       "  </tbody>\n",
       "</table>\n",
       "</div>"
      ],
      "text/plain": [
       "     순위       카테고리                    채널명  구독자수       조회수     영상수\n",
       "95   96     키즈/어린이  로미유 스토리[Romiyu Story]  417만  10억9524만    434개\n",
       "96   97  음식/요리/레시피           [Dorothy]도로시  416만   9억9800만    905개\n",
       "97   98     취미/라이프        JaeYeol ASMR 재열  398만  10억9606만  1,018개\n",
       "98   99     키즈/어린이         CoCosToy 꼬꼬스토이  388만  21억8778만    652개\n",
       "99  100  BJ/인물/연예인               허팝Heopop  384만  32억6002만  1,900개"
      ]
     },
     "execution_count": 141,
     "metadata": {},
     "output_type": "execute_result"
    }
   ],
   "source": [
    "df.tail()"
   ]
  },
  {
   "cell_type": "markdown",
   "metadata": {},
   "source": [
    "- 숫자로 바꿔주는 함수"
   ]
  },
  {
   "cell_type": "code",
   "execution_count": 17,
   "metadata": {},
   "outputs": [
    {
     "data": {
      "text/plain": [
       "390000181900003939"
      ]
     },
     "execution_count": 17,
     "metadata": {},
     "output_type": "execute_result"
    }
   ],
   "source": [
    "# 구독자수, 조회수, 영상수에 숫자만 남기기\n",
    "def convert_unit(s):\n",
    "    s = s.replace('만','0000').replace('억','').replace('개','').replace(',','')\n",
    "    s = int(s)\n",
    "    return s\n",
    "\n",
    "convert_unit('39만18,19만39억39개')"
   ]
  },
  {
   "cell_type": "code",
   "execution_count": 31,
   "metadata": {},
   "outputs": [
    {
     "data": {
      "text/plain": [
       "'390,000,181,900,003,939'"
      ]
     },
     "execution_count": 31,
     "metadata": {},
     "output_type": "execute_result"
    }
   ],
   "source": [
    "# 선생님 코드\n",
    "def convert_unit_s(s):\n",
    "    s = s.replace('만','0000').replace('억','').replace('개','').replace(',','')\n",
    "    return f'{int(s):,d}' # 천단위 구분기호 넣기\n",
    "convert_unit_s('39만18,19만39억39개')"
   ]
  },
  {
   "cell_type": "code",
   "execution_count": 144,
   "metadata": {},
   "outputs": [
    {
     "data": {
      "text/plain": [
       "390000181900003939"
      ]
     },
     "execution_count": 144,
     "metadata": {},
     "output_type": "execute_result"
    }
   ],
   "source": [
    "# 타자를 좀 덜 쳐보기\n",
    "import re\n",
    "def convert_unit1(s):\n",
    "    s = s.replace('만','0000')\n",
    "    s = re.sub('[^0-9]','',s)\n",
    "    s = int(s)\n",
    "    return s\n",
    "\n",
    "convert_unit1('39만18,19만39억39개')"
   ]
  },
  {
   "cell_type": "code",
   "execution_count": 145,
   "metadata": {},
   "outputs": [
    {
     "data": {
      "text/html": [
       "<div>\n",
       "<style scoped>\n",
       "    .dataframe tbody tr th:only-of-type {\n",
       "        vertical-align: middle;\n",
       "    }\n",
       "\n",
       "    .dataframe tbody tr th {\n",
       "        vertical-align: top;\n",
       "    }\n",
       "\n",
       "    .dataframe thead th {\n",
       "        text-align: right;\n",
       "    }\n",
       "</style>\n",
       "<table border=\"1\" class=\"dataframe\">\n",
       "  <thead>\n",
       "    <tr style=\"text-align: right;\">\n",
       "      <th></th>\n",
       "      <th>순위</th>\n",
       "      <th>카테고리</th>\n",
       "      <th>채널명</th>\n",
       "      <th>구독자수</th>\n",
       "      <th>조회수</th>\n",
       "      <th>영상수</th>\n",
       "    </tr>\n",
       "  </thead>\n",
       "  <tbody>\n",
       "    <tr>\n",
       "      <th>0</th>\n",
       "      <td>1</td>\n",
       "      <td>음악/댄스/가수</td>\n",
       "      <td>BLACKPINK</td>\n",
       "      <td>70200000</td>\n",
       "      <td>21457090000</td>\n",
       "      <td>395</td>\n",
       "    </tr>\n",
       "    <tr>\n",
       "      <th>1</th>\n",
       "      <td>2</td>\n",
       "      <td>음악/댄스/가수</td>\n",
       "      <td>HYBE LABELS</td>\n",
       "      <td>63000000</td>\n",
       "      <td>20496840000</td>\n",
       "      <td>725</td>\n",
       "    </tr>\n",
       "    <tr>\n",
       "      <th>2</th>\n",
       "      <td>3</td>\n",
       "      <td>음악/댄스/가수</td>\n",
       "      <td>BANGTANTV</td>\n",
       "      <td>61500000</td>\n",
       "      <td>14077940000</td>\n",
       "      <td>1646</td>\n",
       "    </tr>\n",
       "    <tr>\n",
       "      <th>3</th>\n",
       "      <td>4</td>\n",
       "      <td>음악/댄스/가수</td>\n",
       "      <td>SMTOWN</td>\n",
       "      <td>29300000</td>\n",
       "      <td>23016410000</td>\n",
       "      <td>3779</td>\n",
       "    </tr>\n",
       "    <tr>\n",
       "      <th>4</th>\n",
       "      <td>5</td>\n",
       "      <td>키즈/어린이</td>\n",
       "      <td>Boram Tube Vlog [보람튜브 브이로그]</td>\n",
       "      <td>26500000</td>\n",
       "      <td>11052880000</td>\n",
       "      <td>223</td>\n",
       "    </tr>\n",
       "    <tr>\n",
       "      <th>...</th>\n",
       "      <td>...</td>\n",
       "      <td>...</td>\n",
       "      <td>...</td>\n",
       "      <td>...</td>\n",
       "      <td>...</td>\n",
       "      <td>...</td>\n",
       "    </tr>\n",
       "    <tr>\n",
       "      <th>95</th>\n",
       "      <td>96</td>\n",
       "      <td>키즈/어린이</td>\n",
       "      <td>로미유 스토리[Romiyu Story]</td>\n",
       "      <td>4170000</td>\n",
       "      <td>1095240000</td>\n",
       "      <td>434</td>\n",
       "    </tr>\n",
       "    <tr>\n",
       "      <th>96</th>\n",
       "      <td>97</td>\n",
       "      <td>음식/요리/레시피</td>\n",
       "      <td>[Dorothy]도로시</td>\n",
       "      <td>4160000</td>\n",
       "      <td>998000000</td>\n",
       "      <td>905</td>\n",
       "    </tr>\n",
       "    <tr>\n",
       "      <th>97</th>\n",
       "      <td>98</td>\n",
       "      <td>취미/라이프</td>\n",
       "      <td>JaeYeol ASMR 재열</td>\n",
       "      <td>3980000</td>\n",
       "      <td>1096060000</td>\n",
       "      <td>1018</td>\n",
       "    </tr>\n",
       "    <tr>\n",
       "      <th>98</th>\n",
       "      <td>99</td>\n",
       "      <td>키즈/어린이</td>\n",
       "      <td>CoCosToy 꼬꼬스토이</td>\n",
       "      <td>3880000</td>\n",
       "      <td>2187780000</td>\n",
       "      <td>652</td>\n",
       "    </tr>\n",
       "    <tr>\n",
       "      <th>99</th>\n",
       "      <td>100</td>\n",
       "      <td>BJ/인물/연예인</td>\n",
       "      <td>허팝Heopop</td>\n",
       "      <td>3840000</td>\n",
       "      <td>3260020000</td>\n",
       "      <td>1900</td>\n",
       "    </tr>\n",
       "  </tbody>\n",
       "</table>\n",
       "<p>100 rows × 6 columns</p>\n",
       "</div>"
      ],
      "text/plain": [
       "     순위       카테고리                          채널명      구독자수          조회수   영상수\n",
       "0     1   음악/댄스/가수                    BLACKPINK  70200000  21457090000   395\n",
       "1     2   음악/댄스/가수                  HYBE LABELS  63000000  20496840000   725\n",
       "2     3   음악/댄스/가수                    BANGTANTV  61500000  14077940000  1646\n",
       "3     4   음악/댄스/가수                       SMTOWN  29300000  23016410000  3779\n",
       "4     5     키즈/어린이  Boram Tube Vlog [보람튜브 브이로그]  26500000  11052880000   223\n",
       "..  ...        ...                          ...       ...          ...   ...\n",
       "95   96     키즈/어린이        로미유 스토리[Romiyu Story]   4170000   1095240000   434\n",
       "96   97  음식/요리/레시피                 [Dorothy]도로시   4160000    998000000   905\n",
       "97   98     취미/라이프              JaeYeol ASMR 재열   3980000   1096060000  1018\n",
       "98   99     키즈/어린이               CoCosToy 꼬꼬스토이   3880000   2187780000   652\n",
       "99  100  BJ/인물/연예인                     허팝Heopop   3840000   3260020000  1900\n",
       "\n",
       "[100 rows x 6 columns]"
      ]
     },
     "execution_count": 145,
     "metadata": {},
     "output_type": "execute_result"
    }
   ],
   "source": [
    "# 데이터 프레임에 적용 1) map() 사용 : 각 열을 따로 불러서\n",
    "df['구독자수'] = df['구독자수'].map(convert_unit)\n",
    "df['조회수'] = df['조회수'].map(convert_unit)\n",
    "df['영상수'] = df['영상수'].map(convert_unit)\n",
    "df"
   ]
  },
  {
   "cell_type": "code",
   "execution_count": 146,
   "metadata": {},
   "outputs": [],
   "source": [
    "test_df = pd.DataFrame(lines, columns=['순위', '카테고리', '채널명', '구독자수', '조회수', '영상수'])"
   ]
  },
  {
   "cell_type": "code",
   "execution_count": 147,
   "metadata": {},
   "outputs": [
    {
     "data": {
      "text/html": [
       "<div>\n",
       "<style scoped>\n",
       "    .dataframe tbody tr th:only-of-type {\n",
       "        vertical-align: middle;\n",
       "    }\n",
       "\n",
       "    .dataframe tbody tr th {\n",
       "        vertical-align: top;\n",
       "    }\n",
       "\n",
       "    .dataframe thead th {\n",
       "        text-align: right;\n",
       "    }\n",
       "</style>\n",
       "<table border=\"1\" class=\"dataframe\">\n",
       "  <thead>\n",
       "    <tr style=\"text-align: right;\">\n",
       "      <th></th>\n",
       "      <th>순위</th>\n",
       "      <th>카테고리</th>\n",
       "      <th>채널명</th>\n",
       "      <th>구독자수</th>\n",
       "      <th>조회수</th>\n",
       "      <th>영상수</th>\n",
       "    </tr>\n",
       "  </thead>\n",
       "  <tbody>\n",
       "    <tr>\n",
       "      <th>0</th>\n",
       "      <td>1</td>\n",
       "      <td>음악/댄스/가수</td>\n",
       "      <td>BLACKPINK</td>\n",
       "      <td>70200000</td>\n",
       "      <td>21457090000</td>\n",
       "      <td>395</td>\n",
       "    </tr>\n",
       "    <tr>\n",
       "      <th>1</th>\n",
       "      <td>2</td>\n",
       "      <td>음악/댄스/가수</td>\n",
       "      <td>HYBE LABELS</td>\n",
       "      <td>63000000</td>\n",
       "      <td>20496840000</td>\n",
       "      <td>725</td>\n",
       "    </tr>\n",
       "    <tr>\n",
       "      <th>2</th>\n",
       "      <td>3</td>\n",
       "      <td>음악/댄스/가수</td>\n",
       "      <td>BANGTANTV</td>\n",
       "      <td>61500000</td>\n",
       "      <td>14077940000</td>\n",
       "      <td>1646</td>\n",
       "    </tr>\n",
       "    <tr>\n",
       "      <th>3</th>\n",
       "      <td>4</td>\n",
       "      <td>음악/댄스/가수</td>\n",
       "      <td>SMTOWN</td>\n",
       "      <td>29300000</td>\n",
       "      <td>23016410000</td>\n",
       "      <td>3779</td>\n",
       "    </tr>\n",
       "    <tr>\n",
       "      <th>4</th>\n",
       "      <td>5</td>\n",
       "      <td>키즈/어린이</td>\n",
       "      <td>Boram Tube Vlog [보람튜브 브이로그]</td>\n",
       "      <td>26500000</td>\n",
       "      <td>11052880000</td>\n",
       "      <td>223</td>\n",
       "    </tr>\n",
       "    <tr>\n",
       "      <th>...</th>\n",
       "      <td>...</td>\n",
       "      <td>...</td>\n",
       "      <td>...</td>\n",
       "      <td>...</td>\n",
       "      <td>...</td>\n",
       "      <td>...</td>\n",
       "    </tr>\n",
       "    <tr>\n",
       "      <th>95</th>\n",
       "      <td>96</td>\n",
       "      <td>키즈/어린이</td>\n",
       "      <td>로미유 스토리[Romiyu Story]</td>\n",
       "      <td>4170000</td>\n",
       "      <td>1095240000</td>\n",
       "      <td>434</td>\n",
       "    </tr>\n",
       "    <tr>\n",
       "      <th>96</th>\n",
       "      <td>97</td>\n",
       "      <td>음식/요리/레시피</td>\n",
       "      <td>[Dorothy]도로시</td>\n",
       "      <td>4160000</td>\n",
       "      <td>998000000</td>\n",
       "      <td>905</td>\n",
       "    </tr>\n",
       "    <tr>\n",
       "      <th>97</th>\n",
       "      <td>98</td>\n",
       "      <td>취미/라이프</td>\n",
       "      <td>JaeYeol ASMR 재열</td>\n",
       "      <td>3980000</td>\n",
       "      <td>1096060000</td>\n",
       "      <td>1018</td>\n",
       "    </tr>\n",
       "    <tr>\n",
       "      <th>98</th>\n",
       "      <td>99</td>\n",
       "      <td>키즈/어린이</td>\n",
       "      <td>CoCosToy 꼬꼬스토이</td>\n",
       "      <td>3880000</td>\n",
       "      <td>2187780000</td>\n",
       "      <td>652</td>\n",
       "    </tr>\n",
       "    <tr>\n",
       "      <th>99</th>\n",
       "      <td>100</td>\n",
       "      <td>BJ/인물/연예인</td>\n",
       "      <td>허팝Heopop</td>\n",
       "      <td>3840000</td>\n",
       "      <td>3260020000</td>\n",
       "      <td>1900</td>\n",
       "    </tr>\n",
       "  </tbody>\n",
       "</table>\n",
       "<p>100 rows × 6 columns</p>\n",
       "</div>"
      ],
      "text/plain": [
       "     순위       카테고리                          채널명      구독자수          조회수   영상수\n",
       "0     1   음악/댄스/가수                    BLACKPINK  70200000  21457090000   395\n",
       "1     2   음악/댄스/가수                  HYBE LABELS  63000000  20496840000   725\n",
       "2     3   음악/댄스/가수                    BANGTANTV  61500000  14077940000  1646\n",
       "3     4   음악/댄스/가수                       SMTOWN  29300000  23016410000  3779\n",
       "4     5     키즈/어린이  Boram Tube Vlog [보람튜브 브이로그]  26500000  11052880000   223\n",
       "..  ...        ...                          ...       ...          ...   ...\n",
       "95   96     키즈/어린이        로미유 스토리[Romiyu Story]   4170000   1095240000   434\n",
       "96   97  음식/요리/레시피                 [Dorothy]도로시   4160000    998000000   905\n",
       "97   98     취미/라이프              JaeYeol ASMR 재열   3980000   1096060000  1018\n",
       "98   99     키즈/어린이               CoCosToy 꼬꼬스토이   3880000   2187780000   652\n",
       "99  100  BJ/인물/연예인                     허팝Heopop   3840000   3260020000  1900\n",
       "\n",
       "[100 rows x 6 columns]"
      ]
     },
     "execution_count": 147,
     "metadata": {},
     "output_type": "execute_result"
    }
   ],
   "source": [
    "# 데이터 프레임에 적용 2) apply() 사용\n",
    "test_df['구독자수'] = test_df['구독자수'].apply(convert_unit)\n",
    "test_df['조회수'] = test_df['조회수'].apply(convert_unit)\n",
    "test_df['영상수'] = test_df['영상수'].apply(convert_unit)\n",
    "test_df"
   ]
  },
  {
   "cell_type": "code",
   "execution_count": 9,
   "metadata": {},
   "outputs": [],
   "source": [
    "# test_df['구독자수'] = test_df.구독자수.apply(convert_unit)\n",
    "# test_df['조회수'] = test_df.조회수.apply(convert_unit)\n",
    "# test_df['영상수'] = test_df.영상수.apply(convert_unit) # 뒤는 이렇게 불러도 되는구나...\n",
    "# test_df.head()"
   ]
  },
  {
   "cell_type": "code",
   "execution_count": 11,
   "metadata": {},
   "outputs": [],
   "source": [
    "# for s in test_df.loc[:, '구독자수':'영상수']:\n",
    "#     test_df[s] = test_df[s].apply(convert_unit)\n",
    "# test_df"
   ]
  },
  {
   "cell_type": "markdown",
   "metadata": {},
   "source": [
    "- 두번째 페이지"
   ]
  },
  {
   "cell_type": "code",
   "execution_count": 14,
   "metadata": {},
   "outputs": [],
   "source": [
    "# Xpath로 찾아가기 - //*[@id=\"list-skin\"]/nav/span/a[1]\n",
    "driver.find_element_by_xpath('//*[@id=\"list-skin\"]/nav/span/a[1]').click()\n",
    "time.sleep(2)"
   ]
  },
  {
   "cell_type": "code",
   "execution_count": 15,
   "metadata": {},
   "outputs": [
    {
     "data": {
      "text/plain": [
       "100"
      ]
     },
     "execution_count": 15,
     "metadata": {},
     "output_type": "execute_result"
    }
   ],
   "source": [
    "soup = BeautifulSoup(driver.page_source, 'html.parser')\n",
    "channel_list = soup.select('.aos-init')\n",
    "len(channel_list)"
   ]
  },
  {
   "cell_type": "code",
   "execution_count": 18,
   "metadata": {},
   "outputs": [],
   "source": [
    "lines = []\n",
    "for channel in channel_list:\n",
    "    rank = int(channel.select_one('.rank').get_text().strip())\n",
    "    category = channel.select_one('p.category').get_text().strip()\n",
    "    title = channel.select_one('.subject a').get_text().strip()\n",
    "    subscriber = channel.select_one('.subscriber_cnt').get_text().strip()\n",
    "    view = channel.select_one('.view_cnt').get_text().strip()\n",
    "    video = channel.select_one('.video_cnt').get_text().strip()\n",
    "    lines.append([rank, category[1:-1], title, convert_unit(subscriber), convert_unit(view), convert_unit(video)])"
   ]
  },
  {
   "cell_type": "code",
   "execution_count": 19,
   "metadata": {},
   "outputs": [
    {
     "data": {
      "text/html": [
       "<div>\n",
       "<style scoped>\n",
       "    .dataframe tbody tr th:only-of-type {\n",
       "        vertical-align: middle;\n",
       "    }\n",
       "\n",
       "    .dataframe tbody tr th {\n",
       "        vertical-align: top;\n",
       "    }\n",
       "\n",
       "    .dataframe thead th {\n",
       "        text-align: right;\n",
       "    }\n",
       "</style>\n",
       "<table border=\"1\" class=\"dataframe\">\n",
       "  <thead>\n",
       "    <tr style=\"text-align: right;\">\n",
       "      <th></th>\n",
       "      <th>순위</th>\n",
       "      <th>카테고리</th>\n",
       "      <th>채널명</th>\n",
       "      <th>구독자수</th>\n",
       "      <th>조회수</th>\n",
       "      <th>영상수</th>\n",
       "    </tr>\n",
       "  </thead>\n",
       "  <tbody>\n",
       "    <tr>\n",
       "      <th>0</th>\n",
       "      <td>101</td>\n",
       "      <td>TV/방송</td>\n",
       "      <td>워크맨-Workman</td>\n",
       "      <td>3790000</td>\n",
       "      <td>743430000</td>\n",
       "      <td>154</td>\n",
       "    </tr>\n",
       "    <tr>\n",
       "      <th>1</th>\n",
       "      <td>103</td>\n",
       "      <td>애완/반려동물</td>\n",
       "      <td>크림히어로즈</td>\n",
       "      <td>3780000</td>\n",
       "      <td>1415780000</td>\n",
       "      <td>1011</td>\n",
       "    </tr>\n",
       "    <tr>\n",
       "      <th>2</th>\n",
       "      <td>102</td>\n",
       "      <td>음악/댄스/가수</td>\n",
       "      <td>WINNER</td>\n",
       "      <td>3780000</td>\n",
       "      <td>1204270000</td>\n",
       "      <td>446</td>\n",
       "    </tr>\n",
       "    <tr>\n",
       "      <th>3</th>\n",
       "      <td>104</td>\n",
       "      <td>키즈/어린이</td>\n",
       "      <td>Lime Tube[라임튜브]</td>\n",
       "      <td>3740000</td>\n",
       "      <td>2646690000</td>\n",
       "      <td>1808</td>\n",
       "    </tr>\n",
       "    <tr>\n",
       "      <th>4</th>\n",
       "      <td>105</td>\n",
       "      <td>BJ/인물/연예인</td>\n",
       "      <td>waveya 2011</td>\n",
       "      <td>3730000</td>\n",
       "      <td>1356390000</td>\n",
       "      <td>710</td>\n",
       "    </tr>\n",
       "  </tbody>\n",
       "</table>\n",
       "</div>"
      ],
      "text/plain": [
       "    순위       카테고리              채널명     구독자수         조회수   영상수\n",
       "0  101      TV/방송      워크맨-Workman  3790000   743430000   154\n",
       "1  103    애완/반려동물           크림히어로즈  3780000  1415780000  1011\n",
       "2  102   음악/댄스/가수           WINNER  3780000  1204270000   446\n",
       "3  104     키즈/어린이  Lime Tube[라임튜브]  3740000  2646690000  1808\n",
       "4  105  BJ/인물/연예인      waveya 2011  3730000  1356390000   710"
      ]
     },
     "execution_count": 19,
     "metadata": {},
     "output_type": "execute_result"
    }
   ],
   "source": [
    "df = pd.DataFrame(lines, columns=['순위', '카테고리', '채널명', '구독자수', '조회수', '영상수'])\n",
    "df.head()"
   ]
  },
  {
   "cell_type": "markdown",
   "metadata": {},
   "source": [
    "- page 1에서 10까지 크롤링하기"
   ]
  },
  {
   "cell_type": "code",
   "execution_count": 32,
   "metadata": {},
   "outputs": [],
   "source": [
    "lines = []\n",
    "for page in range(1, 11):\n",
    "    url = 'https://youtube-rank.com/board/bbs/board.php?bo_table=youtube&page='+str(page)\n",
    "    driver.get(url)\n",
    "    time.sleep(3)\n",
    "    soup = BeautifulSoup(driver.page_source, 'html.parser')\n",
    "    channel_list = soup.select('.aos-init')\n",
    "\n",
    "    for channel in channel_list:\n",
    "        rank = int(channel.select_one('.rank').get_text().strip())\n",
    "        category = channel.select_one('p.category').get_text().strip()\n",
    "        title = channel.select_one('.subject a').get_text().strip()\n",
    "        subscriber = channel.select_one('.subscriber_cnt').get_text().strip()\n",
    "        view = channel.select_one('.view_cnt').get_text().strip()\n",
    "        video = channel.select_one('.video_cnt').get_text().strip()\n",
    "        lines.append([rank, category[1:-1], title, convert_unit_s(subscriber), convert_unit_s(view), convert_unit_s(video)])"
   ]
  },
  {
   "cell_type": "code",
   "execution_count": 33,
   "metadata": {},
   "outputs": [
    {
     "data": {
      "text/html": [
       "<div>\n",
       "<style scoped>\n",
       "    .dataframe tbody tr th:only-of-type {\n",
       "        vertical-align: middle;\n",
       "    }\n",
       "\n",
       "    .dataframe tbody tr th {\n",
       "        vertical-align: top;\n",
       "    }\n",
       "\n",
       "    .dataframe thead th {\n",
       "        text-align: right;\n",
       "    }\n",
       "</style>\n",
       "<table border=\"1\" class=\"dataframe\">\n",
       "  <thead>\n",
       "    <tr style=\"text-align: right;\">\n",
       "      <th></th>\n",
       "      <th>순위</th>\n",
       "      <th>카테고리</th>\n",
       "      <th>채널명</th>\n",
       "      <th>구독자수</th>\n",
       "      <th>조회수</th>\n",
       "      <th>영상수</th>\n",
       "    </tr>\n",
       "  </thead>\n",
       "  <tbody>\n",
       "    <tr>\n",
       "      <th>0</th>\n",
       "      <td>1</td>\n",
       "      <td>음악/댄스/가수</td>\n",
       "      <td>BLACKPINK</td>\n",
       "      <td>70,200,000</td>\n",
       "      <td>21,457,090,000</td>\n",
       "      <td>395</td>\n",
       "    </tr>\n",
       "    <tr>\n",
       "      <th>1</th>\n",
       "      <td>2</td>\n",
       "      <td>음악/댄스/가수</td>\n",
       "      <td>HYBE LABELS</td>\n",
       "      <td>63,000,000</td>\n",
       "      <td>20,496,840,000</td>\n",
       "      <td>725</td>\n",
       "    </tr>\n",
       "    <tr>\n",
       "      <th>2</th>\n",
       "      <td>3</td>\n",
       "      <td>음악/댄스/가수</td>\n",
       "      <td>BANGTANTV</td>\n",
       "      <td>61,500,000</td>\n",
       "      <td>14,077,940,000</td>\n",
       "      <td>1,646</td>\n",
       "    </tr>\n",
       "    <tr>\n",
       "      <th>3</th>\n",
       "      <td>4</td>\n",
       "      <td>음악/댄스/가수</td>\n",
       "      <td>SMTOWN</td>\n",
       "      <td>29,300,000</td>\n",
       "      <td>23,016,410,000</td>\n",
       "      <td>3,779</td>\n",
       "    </tr>\n",
       "    <tr>\n",
       "      <th>4</th>\n",
       "      <td>5</td>\n",
       "      <td>키즈/어린이</td>\n",
       "      <td>Boram Tube Vlog [보람튜브 브이로그]</td>\n",
       "      <td>26,500,000</td>\n",
       "      <td>11,052,880,000</td>\n",
       "      <td>223</td>\n",
       "    </tr>\n",
       "  </tbody>\n",
       "</table>\n",
       "</div>"
      ],
      "text/plain": [
       "   순위      카테고리                          채널명        구독자수             조회수  \\\n",
       "0   1  음악/댄스/가수                    BLACKPINK  70,200,000  21,457,090,000   \n",
       "1   2  음악/댄스/가수                  HYBE LABELS  63,000,000  20,496,840,000   \n",
       "2   3  음악/댄스/가수                    BANGTANTV  61,500,000  14,077,940,000   \n",
       "3   4  음악/댄스/가수                       SMTOWN  29,300,000  23,016,410,000   \n",
       "4   5    키즈/어린이  Boram Tube Vlog [보람튜브 브이로그]  26,500,000  11,052,880,000   \n",
       "\n",
       "     영상수  \n",
       "0    395  \n",
       "1    725  \n",
       "2  1,646  \n",
       "3  3,779  \n",
       "4    223  "
      ]
     },
     "execution_count": 33,
     "metadata": {},
     "output_type": "execute_result"
    }
   ],
   "source": [
    "df = pd.DataFrame(lines, columns=['순위', '카테고리', '채널명', '구독자수', '조회수', '영상수'])\n",
    "df.head()"
   ]
  },
  {
   "cell_type": "code",
   "execution_count": 34,
   "metadata": {},
   "outputs": [
    {
     "data": {
      "text/html": [
       "<div>\n",
       "<style scoped>\n",
       "    .dataframe tbody tr th:only-of-type {\n",
       "        vertical-align: middle;\n",
       "    }\n",
       "\n",
       "    .dataframe tbody tr th {\n",
       "        vertical-align: top;\n",
       "    }\n",
       "\n",
       "    .dataframe thead th {\n",
       "        text-align: right;\n",
       "    }\n",
       "</style>\n",
       "<table border=\"1\" class=\"dataframe\">\n",
       "  <thead>\n",
       "    <tr style=\"text-align: right;\">\n",
       "      <th></th>\n",
       "      <th>순위</th>\n",
       "      <th>카테고리</th>\n",
       "      <th>채널명</th>\n",
       "      <th>구독자수</th>\n",
       "      <th>조회수</th>\n",
       "      <th>영상수</th>\n",
       "    </tr>\n",
       "  </thead>\n",
       "  <tbody>\n",
       "    <tr>\n",
       "      <th>995</th>\n",
       "      <td>996</td>\n",
       "      <td>음악/댄스/가수</td>\n",
       "      <td>Reynah</td>\n",
       "      <td>550,000</td>\n",
       "      <td>148,880,000</td>\n",
       "      <td>246</td>\n",
       "    </tr>\n",
       "    <tr>\n",
       "      <th>996</th>\n",
       "      <td>997</td>\n",
       "      <td>TV/방송</td>\n",
       "      <td>J.Y. Park</td>\n",
       "      <td>550,000</td>\n",
       "      <td>93,730,000</td>\n",
       "      <td>90</td>\n",
       "    </tr>\n",
       "    <tr>\n",
       "      <th>997</th>\n",
       "      <td>998</td>\n",
       "      <td>게임</td>\n",
       "      <td>[ALTUBE] 김성현TV</td>\n",
       "      <td>550,000</td>\n",
       "      <td>422,100,000</td>\n",
       "      <td>2,121</td>\n",
       "    </tr>\n",
       "    <tr>\n",
       "      <th>998</th>\n",
       "      <td>1000</td>\n",
       "      <td>게임</td>\n",
       "      <td>방앗간 비둘기</td>\n",
       "      <td>550,000</td>\n",
       "      <td>356,900,000</td>\n",
       "      <td>4,381</td>\n",
       "    </tr>\n",
       "    <tr>\n",
       "      <th>999</th>\n",
       "      <td>999</td>\n",
       "      <td>게임</td>\n",
       "      <td>빅헤드</td>\n",
       "      <td>550,000</td>\n",
       "      <td>326,600,000</td>\n",
       "      <td>3,540</td>\n",
       "    </tr>\n",
       "  </tbody>\n",
       "</table>\n",
       "</div>"
      ],
      "text/plain": [
       "       순위      카테고리             채널명     구독자수          조회수    영상수\n",
       "995   996  음악/댄스/가수          Reynah  550,000  148,880,000    246\n",
       "996   997     TV/방송       J.Y. Park  550,000   93,730,000     90\n",
       "997   998        게임  [ALTUBE] 김성현TV  550,000  422,100,000  2,121\n",
       "998  1000        게임         방앗간 비둘기  550,000  356,900,000  4,381\n",
       "999   999        게임             빅헤드  550,000  326,600,000  3,540"
      ]
     },
     "execution_count": 34,
     "metadata": {},
     "output_type": "execute_result"
    }
   ],
   "source": [
    "df.tail()"
   ]
  },
  {
   "cell_type": "code",
   "execution_count": 35,
   "metadata": {},
   "outputs": [],
   "source": [
    "df.to_csv('유튜브랭킹.csv', index=False)\n",
    "driver.close()"
   ]
  },
  {
   "cell_type": "code",
   "execution_count": null,
   "metadata": {},
   "outputs": [],
   "source": []
  }
 ],
 "metadata": {
  "interpreter": {
   "hash": "57728f4bfd9bc978c25d5c9cdcf277be28bad00a01dc89349b2fca774db23ac6"
  },
  "kernelspec": {
   "display_name": "Python 3.8.8 64-bit ('base': conda)",
   "language": "python",
   "name": "python3"
  },
  "language_info": {
   "codemirror_mode": {
    "name": "ipython",
    "version": 3
   },
   "file_extension": ".py",
   "mimetype": "text/x-python",
   "name": "python",
   "nbconvert_exporter": "python",
   "pygments_lexer": "ipython3",
   "version": "3.8.8"
  },
  "orig_nbformat": 4
 },
 "nbformat": 4,
 "nbformat_minor": 2
}
