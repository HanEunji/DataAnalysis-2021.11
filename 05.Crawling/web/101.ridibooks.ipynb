{
 "cells": [
  {
   "cell_type": "code",
   "execution_count": 2,
   "metadata": {},
   "outputs": [],
   "source": [
    "import requests\n",
    "import pandas as pd\n",
    "from bs4 import BeautifulSoup"
   ]
  },
  {
   "cell_type": "code",
   "execution_count": 3,
   "metadata": {},
   "outputs": [],
   "source": [
    "url = 'https://ridibooks.com/bestsellers/general?order=weekly'\n",
    "req = requests.get(url)\n",
    "html = req.text\n",
    "# html1"
   ]
  },
  {
   "cell_type": "code",
   "execution_count": 4,
   "metadata": {},
   "outputs": [],
   "source": [
    "soup = BeautifulSoup(html, 'html.parser')\n",
    "# ridi"
   ]
  },
  {
   "cell_type": "code",
   "execution_count": 10,
   "metadata": {},
   "outputs": [
    {
     "data": {
      "text/plain": [
       "31"
      ]
     },
     "execution_count": 10,
     "metadata": {},
     "output_type": "execute_result"
    }
   ],
   "source": [
    "ridi = soup.select_one('.book_macro_wrapper.js_book_macro_wrapper')\n",
    "ri = ridi.select('.book_macro_110')\n",
    "len(ri)"
   ]
  },
  {
   "cell_type": "code",
   "execution_count": 148,
   "metadata": {},
   "outputs": [],
   "source": [
    "rb = ri[0]"
   ]
  },
  {
   "cell_type": "code",
   "execution_count": null,
   "metadata": {},
   "outputs": [],
   "source": [
    "# 랭킹, 이미지, 제목, 저자, 출판사, 장르, 가격"
   ]
  },
  {
   "cell_type": "code",
   "execution_count": 175,
   "metadata": {},
   "outputs": [
    {
     "data": {
      "text/plain": [
       "'30위'"
      ]
     },
     "execution_count": 175,
     "metadata": {},
     "output_type": "execute_result"
    }
   ],
   "source": [
    "# 랭킹\n",
    "rank = rb.select_one('p').get_text().strip()\n",
    "rank"
   ]
  },
  {
   "cell_type": "code",
   "execution_count": 182,
   "metadata": {},
   "outputs": [
    {
     "data": {
      "text/plain": [
       "'http://img.ridicdn.net/cover/3906000004.png'"
      ]
     },
     "execution_count": 182,
     "metadata": {},
     "output_type": "execute_result"
    }
   ],
   "source": [
    "# 이미지\n",
    "image = rb.select_one('.thumbnail_image').find('img')['data-src'].replace('/large#1', '.png').replace('//', 'http://')\n",
    "image"
   ]
  },
  {
   "cell_type": "code",
   "execution_count": 151,
   "metadata": {},
   "outputs": [
    {
     "data": {
      "text/plain": [
       "'소란과 입맞춤'"
      ]
     },
     "execution_count": 151,
     "metadata": {},
     "output_type": "execute_result"
    }
   ],
   "source": [
    "# 제목\n",
    "title = rb.find('h3').get_text().strip()\n",
    "title"
   ]
  },
  {
   "cell_type": "code",
   "execution_count": 152,
   "metadata": {},
   "outputs": [
    {
     "data": {
      "text/plain": [
       "'정이담'"
      ]
     },
     "execution_count": 152,
     "metadata": {},
     "output_type": "execute_result"
    }
   ],
   "source": [
    "# 저자\n",
    "author = rb.select_one('.book_metadata.author').get_text().strip()\n",
    "author"
   ]
  },
  {
   "cell_type": "code",
   "execution_count": 153,
   "metadata": {},
   "outputs": [
    {
     "data": {
      "text/plain": [
       "'리디북스'"
      ]
     },
     "execution_count": 153,
     "metadata": {},
     "output_type": "execute_result"
    }
   ],
   "source": [
    "# 출판사\n",
    "author = rb.select_one('.book_metadata.publisher').get_text().strip()\n",
    "author"
   ]
  },
  {
   "cell_type": "code",
   "execution_count": 154,
   "metadata": {},
   "outputs": [
    {
     "data": {
      "text/plain": [
       "'한국소설'"
      ]
     },
     "execution_count": 154,
     "metadata": {},
     "output_type": "execute_result"
    }
   ],
   "source": [
    "# 장르\n",
    "genre = rb.select_one('.book_metadata.genre').get_text().strip()\n",
    "genre"
   ]
  },
  {
   "cell_type": "code",
   "execution_count": 155,
   "metadata": {},
   "outputs": [
    {
     "data": {
      "text/plain": [
       "'1,500'"
      ]
     },
     "execution_count": 155,
     "metadata": {},
     "output_type": "execute_result"
    }
   ],
   "source": [
    "# 가격\n",
    "price = rb.select_one('.book_metadata.meta_price_info').find('span').get_text().strip().replace('원','')\n",
    "price"
   ]
  },
  {
   "cell_type": "code",
   "execution_count": 183,
   "metadata": {},
   "outputs": [],
   "source": [
    "lines = []\n",
    "for rb in ri:\n",
    "    rank = rb.select_one('p').get_text().strip()\n",
    "    if rank == '위':\n",
    "        rank = 0\n",
    "    image = rb.select_one('.thumbnail_image').find('img')['data-src'].replace('/large#1', '.png').replace('//', 'http://')\n",
    "    title = rb.find('h3').get_text().strip()\n",
    "    author = rb.select_one('.book_metadata.author').get_text().strip()\n",
    "    genre = rb.select_one('.book_metadata.genre').get_text().strip()\n",
    "    price = rb.select_one('.book_metadata.meta_price_info').find('span').get_text().strip().replace('원','')\n",
    "\n",
    "    lines.append([rank, image, title, author, genre, price])"
   ]
  },
  {
   "cell_type": "code",
   "execution_count": 184,
   "metadata": {},
   "outputs": [
    {
     "data": {
      "text/html": [
       "<div>\n",
       "<style scoped>\n",
       "    .dataframe tbody tr th:only-of-type {\n",
       "        vertical-align: middle;\n",
       "    }\n",
       "\n",
       "    .dataframe tbody tr th {\n",
       "        vertical-align: top;\n",
       "    }\n",
       "\n",
       "    .dataframe thead th {\n",
       "        text-align: right;\n",
       "    }\n",
       "</style>\n",
       "<table border=\"1\" class=\"dataframe\">\n",
       "  <thead>\n",
       "    <tr style=\"text-align: right;\">\n",
       "      <th></th>\n",
       "      <th>랭킹</th>\n",
       "      <th>썸네일</th>\n",
       "      <th>타이틀</th>\n",
       "      <th>저자</th>\n",
       "      <th>장르</th>\n",
       "      <th>가격</th>\n",
       "    </tr>\n",
       "  </thead>\n",
       "  <tbody>\n",
       "    <tr>\n",
       "      <th>0</th>\n",
       "      <td>0</td>\n",
       "      <td>http://img.ridicdn.net/cover/4734000001.png</td>\n",
       "      <td>소란과 입맞춤</td>\n",
       "      <td>정이담</td>\n",
       "      <td>한국소설</td>\n",
       "      <td>1,500</td>\n",
       "    </tr>\n",
       "    <tr>\n",
       "      <th>1</th>\n",
       "      <td>1위</td>\n",
       "      <td>http://img.ridicdn.net/cover/4139000023.png</td>\n",
       "      <td>거인의 포트폴리오</td>\n",
       "      <td>강환국</td>\n",
       "      <td>경영일반</td>\n",
       "      <td>11,250</td>\n",
       "    </tr>\n",
       "    <tr>\n",
       "      <th>2</th>\n",
       "      <td>2위</td>\n",
       "      <td>http://img.ridicdn.net/cover/1568000082.png</td>\n",
       "      <td>거꾸로 읽는 세계사</td>\n",
       "      <td>유시민</td>\n",
       "      <td>역사</td>\n",
       "      <td>12,000</td>\n",
       "    </tr>\n",
       "    <tr>\n",
       "      <th>3</th>\n",
       "      <td>3위</td>\n",
       "      <td>http://img.ridicdn.net/cover/372008456.png</td>\n",
       "      <td>웰씽킹</td>\n",
       "      <td>켈리 최</td>\n",
       "      <td>성공/삶의자세</td>\n",
       "      <td>10,080</td>\n",
       "    </tr>\n",
       "    <tr>\n",
       "      <th>4</th>\n",
       "      <td>4위</td>\n",
       "      <td>http://img.ridicdn.net/cover/2639000262.png</td>\n",
       "      <td>그냥 하지 말라</td>\n",
       "      <td>송길영</td>\n",
       "      <td>경영일반</td>\n",
       "      <td>12,500</td>\n",
       "    </tr>\n",
       "    <tr>\n",
       "      <th>5</th>\n",
       "      <td>5위</td>\n",
       "      <td>http://img.ridicdn.net/cover/111025532.png</td>\n",
       "      <td>듄 시리즈 1~6부 세트</td>\n",
       "      <td>프랭크 허버트</td>\n",
       "      <td>SF 소설</td>\n",
       "      <td>64,800</td>\n",
       "    </tr>\n",
       "    <tr>\n",
       "      <th>6</th>\n",
       "      <td>6위</td>\n",
       "      <td>http://img.ridicdn.net/cover/4699000001.png</td>\n",
       "      <td>지구 끝의 온실</td>\n",
       "      <td>김초엽</td>\n",
       "      <td>SF 소설</td>\n",
       "      <td>10,500</td>\n",
       "    </tr>\n",
       "    <tr>\n",
       "      <th>7</th>\n",
       "      <td>7위</td>\n",
       "      <td>http://img.ridicdn.net/cover/1648000408.png</td>\n",
       "      <td>서울 자가에 대기업 다니는 김 부장 이야기 1</td>\n",
       "      <td>송희구</td>\n",
       "      <td>성공/삶의자세</td>\n",
       "      <td>12,000</td>\n",
       "    </tr>\n",
       "    <tr>\n",
       "      <th>8</th>\n",
       "      <td>8위</td>\n",
       "      <td>http://img.ridicdn.net/cover/682001434.png</td>\n",
       "      <td>듄 시리즈 1권</td>\n",
       "      <td>프랭크 허버트</td>\n",
       "      <td>SF 소설</td>\n",
       "      <td>20,000</td>\n",
       "    </tr>\n",
       "    <tr>\n",
       "      <th>9</th>\n",
       "      <td>9위</td>\n",
       "      <td>http://img.ridicdn.net/cover/1184000148.png</td>\n",
       "      <td>이어령의 마지막 수업</td>\n",
       "      <td>김지수,          이어령</td>\n",
       "      <td>인문</td>\n",
       "      <td>10,350</td>\n",
       "    </tr>\n",
       "    <tr>\n",
       "      <th>10</th>\n",
       "      <td>10위</td>\n",
       "      <td>http://img.ridicdn.net/cover/754032938.png</td>\n",
       "      <td>트렌드 코리아 2022</td>\n",
       "      <td>김난도,          전미영              외 8명</td>\n",
       "      <td>경제일반</td>\n",
       "      <td>12,600</td>\n",
       "    </tr>\n",
       "    <tr>\n",
       "      <th>11</th>\n",
       "      <td>11위</td>\n",
       "      <td>http://img.ridicdn.net/cover/754033256.png</td>\n",
       "      <td>장면들</td>\n",
       "      <td>손석희</td>\n",
       "      <td>정치/사회</td>\n",
       "      <td>12,950</td>\n",
       "    </tr>\n",
       "    <tr>\n",
       "      <th>12</th>\n",
       "      <td>12위</td>\n",
       "      <td>http://img.ridicdn.net/cover/754032714.png</td>\n",
       "      <td>NFT 레볼루션</td>\n",
       "      <td>성소라,          롤프 회퍼              외 1명</td>\n",
       "      <td>재테크/금융/부동산</td>\n",
       "      <td>12,600</td>\n",
       "    </tr>\n",
       "    <tr>\n",
       "      <th>13</th>\n",
       "      <td>13위</td>\n",
       "      <td>http://img.ridicdn.net/cover/4736000001.png</td>\n",
       "      <td>흰 밤과 푸른 달</td>\n",
       "      <td>천선란</td>\n",
       "      <td>한국소설</td>\n",
       "      <td>1,500</td>\n",
       "    </tr>\n",
       "    <tr>\n",
       "      <th>14</th>\n",
       "      <td>14위</td>\n",
       "      <td>http://img.ridicdn.net/cover/4139000022.png</td>\n",
       "      <td>사경인의 친절한 투자 과외</td>\n",
       "      <td>사경인,          이지영</td>\n",
       "      <td>경제일반</td>\n",
       "      <td>13,500</td>\n",
       "    </tr>\n",
       "    <tr>\n",
       "      <th>15</th>\n",
       "      <td>15위</td>\n",
       "      <td>http://img.ridicdn.net/cover/2596000030.png</td>\n",
       "      <td>파이어족 강환국의 하면 된다! 퀀트 투자</td>\n",
       "      <td>강환국</td>\n",
       "      <td>재테크/금융/부동산</td>\n",
       "      <td>13,000</td>\n",
       "    </tr>\n",
       "    <tr>\n",
       "      <th>16</th>\n",
       "      <td>16위</td>\n",
       "      <td>http://img.ridicdn.net/cover/734002254.png</td>\n",
       "      <td>반도체 넥스트 시나리오</td>\n",
       "      <td>권순용</td>\n",
       "      <td>경영일반</td>\n",
       "      <td>10,710</td>\n",
       "    </tr>\n",
       "    <tr>\n",
       "      <th>17</th>\n",
       "      <td>17위</td>\n",
       "      <td>http://img.ridicdn.net/cover/4321000283.png</td>\n",
       "      <td>방금 떠나온 세계</td>\n",
       "      <td>김초엽</td>\n",
       "      <td>한국소설</td>\n",
       "      <td>10,800</td>\n",
       "    </tr>\n",
       "    <tr>\n",
       "      <th>18</th>\n",
       "      <td>18위</td>\n",
       "      <td>http://img.ridicdn.net/cover/288000133.png</td>\n",
       "      <td>주식투자 절대 원칙</td>\n",
       "      <td>박영옥</td>\n",
       "      <td>재테크/금융/부동산</td>\n",
       "      <td>12,240</td>\n",
       "    </tr>\n",
       "    <tr>\n",
       "      <th>19</th>\n",
       "      <td>19위</td>\n",
       "      <td>http://img.ridicdn.net/cover/1883000147.png</td>\n",
       "      <td>데일 카네기 자기관리론</td>\n",
       "      <td>데일 카네기</td>\n",
       "      <td>성공/삶의자세</td>\n",
       "      <td>2,750</td>\n",
       "    </tr>\n",
       "    <tr>\n",
       "      <th>20</th>\n",
       "      <td>20위</td>\n",
       "      <td>http://img.ridicdn.net/cover/371002540.png</td>\n",
       "      <td>1차원이 되고 싶어</td>\n",
       "      <td>박상영</td>\n",
       "      <td>한국소설</td>\n",
       "      <td>10,500</td>\n",
       "    </tr>\n",
       "    <tr>\n",
       "      <th>21</th>\n",
       "      <td>21위</td>\n",
       "      <td>http://img.ridicdn.net/cover/1691000102.png</td>\n",
       "      <td>아직 오지 않은 날들을 위하여</td>\n",
       "      <td>파스칼 브뤼크네르</td>\n",
       "      <td>인문</td>\n",
       "      <td>12,000</td>\n",
       "    </tr>\n",
       "    <tr>\n",
       "      <th>22</th>\n",
       "      <td>22위</td>\n",
       "      <td>http://img.ridicdn.net/cover/1883000157.png</td>\n",
       "      <td>독살로 읽는 세계사</td>\n",
       "      <td>엘리너 허먼</td>\n",
       "      <td>인문</td>\n",
       "      <td>6,000</td>\n",
       "    </tr>\n",
       "    <tr>\n",
       "      <th>23</th>\n",
       "      <td>23위</td>\n",
       "      <td>http://img.ridicdn.net/cover/959000045.png</td>\n",
       "      <td>가상화폐 단타의 정석</td>\n",
       "      <td>나씨</td>\n",
       "      <td>재테크/금융/부동산</td>\n",
       "      <td>10,500</td>\n",
       "    </tr>\n",
       "    <tr>\n",
       "      <th>24</th>\n",
       "      <td>24위</td>\n",
       "      <td>http://img.ridicdn.net/cover/4730000001.png</td>\n",
       "      <td>무엇이 소년을 이렇게 만들었나</td>\n",
       "      <td>신진오</td>\n",
       "      <td>한국소설</td>\n",
       "      <td>1,500</td>\n",
       "    </tr>\n",
       "    <tr>\n",
       "      <th>25</th>\n",
       "      <td>25위</td>\n",
       "      <td>http://img.ridicdn.net/cover/4097000157.png</td>\n",
       "      <td>일어날 일은 일어난다</td>\n",
       "      <td>박권</td>\n",
       "      <td>과학일반</td>\n",
       "      <td>11,030</td>\n",
       "    </tr>\n",
       "    <tr>\n",
       "      <th>26</th>\n",
       "      <td>26위</td>\n",
       "      <td>http://img.ridicdn.net/cover/4239000026.png</td>\n",
       "      <td>소문</td>\n",
       "      <td>오기와라 히로시</td>\n",
       "      <td>일본 소설</td>\n",
       "      <td>5,000</td>\n",
       "    </tr>\n",
       "    <tr>\n",
       "      <th>27</th>\n",
       "      <td>27위</td>\n",
       "      <td>http://img.ridicdn.net/cover/1691000089.png</td>\n",
       "      <td>미드나잇 라이브러리</td>\n",
       "      <td>매트 헤이그</td>\n",
       "      <td>영미소설</td>\n",
       "      <td>12,500</td>\n",
       "    </tr>\n",
       "    <tr>\n",
       "      <th>28</th>\n",
       "      <td>28위</td>\n",
       "      <td>http://img.ridicdn.net/cover/754031890.png</td>\n",
       "      <td>오은영의 화해</td>\n",
       "      <td>오은영</td>\n",
       "      <td>인간관계</td>\n",
       "      <td>9,600</td>\n",
       "    </tr>\n",
       "    <tr>\n",
       "      <th>29</th>\n",
       "      <td>29위</td>\n",
       "      <td>http://img.ridicdn.net/cover/2167000380.png</td>\n",
       "      <td>왜 살아야 하는가</td>\n",
       "      <td>미하엘 하우스켈러</td>\n",
       "      <td>인문</td>\n",
       "      <td>11,340</td>\n",
       "    </tr>\n",
       "    <tr>\n",
       "      <th>30</th>\n",
       "      <td>30위</td>\n",
       "      <td>http://img.ridicdn.net/cover/3906000004.png</td>\n",
       "      <td>합리적 남자</td>\n",
       "      <td>롤로 토마시</td>\n",
       "      <td>결혼/임신/출산</td>\n",
       "      <td>4,000</td>\n",
       "    </tr>\n",
       "  </tbody>\n",
       "</table>\n",
       "</div>"
      ],
      "text/plain": [
       "     랭킹                                          썸네일  \\\n",
       "0     0  http://img.ridicdn.net/cover/4734000001.png   \n",
       "1    1위  http://img.ridicdn.net/cover/4139000023.png   \n",
       "2    2위  http://img.ridicdn.net/cover/1568000082.png   \n",
       "3    3위   http://img.ridicdn.net/cover/372008456.png   \n",
       "4    4위  http://img.ridicdn.net/cover/2639000262.png   \n",
       "5    5위   http://img.ridicdn.net/cover/111025532.png   \n",
       "6    6위  http://img.ridicdn.net/cover/4699000001.png   \n",
       "7    7위  http://img.ridicdn.net/cover/1648000408.png   \n",
       "8    8위   http://img.ridicdn.net/cover/682001434.png   \n",
       "9    9위  http://img.ridicdn.net/cover/1184000148.png   \n",
       "10  10위   http://img.ridicdn.net/cover/754032938.png   \n",
       "11  11위   http://img.ridicdn.net/cover/754033256.png   \n",
       "12  12위   http://img.ridicdn.net/cover/754032714.png   \n",
       "13  13위  http://img.ridicdn.net/cover/4736000001.png   \n",
       "14  14위  http://img.ridicdn.net/cover/4139000022.png   \n",
       "15  15위  http://img.ridicdn.net/cover/2596000030.png   \n",
       "16  16위   http://img.ridicdn.net/cover/734002254.png   \n",
       "17  17위  http://img.ridicdn.net/cover/4321000283.png   \n",
       "18  18위   http://img.ridicdn.net/cover/288000133.png   \n",
       "19  19위  http://img.ridicdn.net/cover/1883000147.png   \n",
       "20  20위   http://img.ridicdn.net/cover/371002540.png   \n",
       "21  21위  http://img.ridicdn.net/cover/1691000102.png   \n",
       "22  22위  http://img.ridicdn.net/cover/1883000157.png   \n",
       "23  23위   http://img.ridicdn.net/cover/959000045.png   \n",
       "24  24위  http://img.ridicdn.net/cover/4730000001.png   \n",
       "25  25위  http://img.ridicdn.net/cover/4097000157.png   \n",
       "26  26위  http://img.ridicdn.net/cover/4239000026.png   \n",
       "27  27위  http://img.ridicdn.net/cover/1691000089.png   \n",
       "28  28위   http://img.ridicdn.net/cover/754031890.png   \n",
       "29  29위  http://img.ridicdn.net/cover/2167000380.png   \n",
       "30  30위  http://img.ridicdn.net/cover/3906000004.png   \n",
       "\n",
       "                          타이틀                                     저자  \\\n",
       "0                     소란과 입맞춤                                    정이담   \n",
       "1                   거인의 포트폴리오                                    강환국   \n",
       "2                  거꾸로 읽는 세계사                                    유시민   \n",
       "3                         웰씽킹                                   켈리 최   \n",
       "4                    그냥 하지 말라                                    송길영   \n",
       "5               듄 시리즈 1~6부 세트                                프랭크 허버트   \n",
       "6                    지구 끝의 온실                                    김초엽   \n",
       "7   서울 자가에 대기업 다니는 김 부장 이야기 1                                    송희구   \n",
       "8                    듄 시리즈 1권                                프랭크 허버트   \n",
       "9                 이어령의 마지막 수업                      김지수,          이어령   \n",
       "10               트렌드 코리아 2022    김난도,          전미영              외 8명   \n",
       "11                        장면들                                    손석희   \n",
       "12                   NFT 레볼루션  성소라,          롤프 회퍼              외 1명   \n",
       "13                  흰 밤과 푸른 달                                    천선란   \n",
       "14             사경인의 친절한 투자 과외                      사경인,          이지영   \n",
       "15     파이어족 강환국의 하면 된다! 퀀트 투자                                    강환국   \n",
       "16               반도체 넥스트 시나리오                                    권순용   \n",
       "17                  방금 떠나온 세계                                    김초엽   \n",
       "18                 주식투자 절대 원칙                                    박영옥   \n",
       "19               데일 카네기 자기관리론                                 데일 카네기   \n",
       "20                 1차원이 되고 싶어                                    박상영   \n",
       "21           아직 오지 않은 날들을 위하여                              파스칼 브뤼크네르   \n",
       "22                 독살로 읽는 세계사                                 엘리너 허먼   \n",
       "23                가상화폐 단타의 정석                                     나씨   \n",
       "24           무엇이 소년을 이렇게 만들었나                                    신진오   \n",
       "25                일어날 일은 일어난다                                     박권   \n",
       "26                         소문                               오기와라 히로시   \n",
       "27                 미드나잇 라이브러리                                 매트 헤이그   \n",
       "28                    오은영의 화해                                    오은영   \n",
       "29                  왜 살아야 하는가                              미하엘 하우스켈러   \n",
       "30                     합리적 남자                                 롤로 토마시   \n",
       "\n",
       "            장르      가격  \n",
       "0         한국소설   1,500  \n",
       "1         경영일반  11,250  \n",
       "2           역사  12,000  \n",
       "3      성공/삶의자세  10,080  \n",
       "4         경영일반  12,500  \n",
       "5        SF 소설  64,800  \n",
       "6        SF 소설  10,500  \n",
       "7      성공/삶의자세  12,000  \n",
       "8        SF 소설  20,000  \n",
       "9           인문  10,350  \n",
       "10        경제일반  12,600  \n",
       "11       정치/사회  12,950  \n",
       "12  재테크/금융/부동산  12,600  \n",
       "13        한국소설   1,500  \n",
       "14        경제일반  13,500  \n",
       "15  재테크/금융/부동산  13,000  \n",
       "16        경영일반  10,710  \n",
       "17        한국소설  10,800  \n",
       "18  재테크/금융/부동산  12,240  \n",
       "19     성공/삶의자세   2,750  \n",
       "20        한국소설  10,500  \n",
       "21          인문  12,000  \n",
       "22          인문   6,000  \n",
       "23  재테크/금융/부동산  10,500  \n",
       "24        한국소설   1,500  \n",
       "25        과학일반  11,030  \n",
       "26       일본 소설   5,000  \n",
       "27        영미소설  12,500  \n",
       "28        인간관계   9,600  \n",
       "29          인문  11,340  \n",
       "30    결혼/임신/출산   4,000  "
      ]
     },
     "execution_count": 184,
     "metadata": {},
     "output_type": "execute_result"
    }
   ],
   "source": [
    "df = pd.DataFrame(lines, columns=['랭킹', '썸네일', '타이틀', '저자', '장르', '가격'])\n",
    "df"
   ]
  },
  {
   "cell_type": "code",
   "execution_count": 185,
   "metadata": {},
   "outputs": [],
   "source": [
    "df.to_html('리디북스위클리탑30(211206).html', index=False)"
   ]
  },
  {
   "cell_type": "code",
   "execution_count": 191,
   "metadata": {},
   "outputs": [
    {
     "data": {
      "text/plain": [
       "'<img src=\"http://img.ridicdn.net/cover/3906000004.png\" width=\"20\">'"
      ]
     },
     "execution_count": 191,
     "metadata": {},
     "output_type": "execute_result"
    }
   ],
   "source": [
    "# 이미지\n",
    "image = rb.select_one('.thumbnail_image').find('img')['data-src'].replace('/large#1', '.png\" width=\"20\">').replace('//', '<img src=\"http://')\n",
    "image"
   ]
  },
  {
   "cell_type": "code",
   "execution_count": null,
   "metadata": {},
   "outputs": [],
   "source": []
  }
 ],
 "metadata": {
  "interpreter": {
   "hash": "57728f4bfd9bc978c25d5c9cdcf277be28bad00a01dc89349b2fca774db23ac6"
  },
  "kernelspec": {
   "display_name": "Python 3.8.8 64-bit ('base': conda)",
   "language": "python",
   "name": "python3"
  },
  "language_info": {
   "codemirror_mode": {
    "name": "ipython",
    "version": 3
   },
   "file_extension": ".py",
   "mimetype": "text/x-python",
   "name": "python",
   "nbconvert_exporter": "python",
   "pygments_lexer": "ipython3",
   "version": "3.8.8"
  },
  "orig_nbformat": 4
 },
 "nbformat": 4,
 "nbformat_minor": 2
}
