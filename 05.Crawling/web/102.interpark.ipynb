{
 "cells": [
  {
   "cell_type": "code",
   "execution_count": 1,
   "metadata": {},
   "outputs": [],
   "source": [
    "import requests\n",
    "import pandas as pd\n",
    "from bs4 import BeautifulSoup"
   ]
  },
  {
   "cell_type": "code",
   "execution_count": 2,
   "metadata": {},
   "outputs": [],
   "source": [
    "url = 'http://book.interpark.com/display/collectlist.do?_method=BestsellerHourNew201605&bestTp=1&dispNo=028'\n",
    "req = requests.get(url)\n",
    "html = req.text\n",
    "# html"
   ]
  },
  {
   "cell_type": "code",
   "execution_count": 3,
   "metadata": {},
   "outputs": [],
   "source": [
    "soup = BeautifulSoup(html, 'html.parser')"
   ]
  },
  {
   "cell_type": "code",
   "execution_count": 4,
   "metadata": {},
   "outputs": [],
   "source": [
    "interp = soup.select_one('.rankBestContentList ')\n",
    "itb = interp.select('.listItem.singleType')\n",
    "len(itb)\n",
    "it = itb[0]"
   ]
  },
  {
   "cell_type": "code",
   "execution_count": 5,
   "metadata": {},
   "outputs": [],
   "source": [
    "# 순위, 책제목, 저자, 출판사, 가격(정수로)"
   ]
  },
  {
   "cell_type": "code",
   "execution_count": 6,
   "metadata": {},
   "outputs": [
    {
     "data": {
      "text/plain": [
       "2"
      ]
     },
     "execution_count": 6,
     "metadata": {},
     "output_type": "execute_result"
    }
   ],
   "source": [
    "rank = it.select_one('.rankNumber.digit2')['class']\n",
    "rank = int(rank[1][-1])\n",
    "rank"
   ]
  },
  {
   "cell_type": "code",
   "execution_count": 7,
   "metadata": {},
   "outputs": [
    {
     "data": {
      "text/plain": [
       "1"
      ]
     },
     "execution_count": 7,
     "metadata": {},
     "output_type": "execute_result"
    }
   ],
   "source": [
    "rank = it.select_one('.rankNumber.digit2').find('span')['class'][1][-1]\n",
    "rank = int(rank)\n",
    "rank"
   ]
  },
  {
   "cell_type": "code",
   "execution_count": 11,
   "metadata": {},
   "outputs": [
    {
     "data": {
      "text/plain": [
       "'1'"
      ]
     },
     "execution_count": 11,
     "metadata": {},
     "output_type": "execute_result"
    }
   ],
   "source": [
    "a =it.select('.rankBtn_ctrl')[0]['class'][1][-1]\n",
    "a"
   ]
  },
  {
   "cell_type": "code",
   "execution_count": 17,
   "metadata": {},
   "outputs": [
    {
     "data": {
      "text/plain": [
       "'11'"
      ]
     },
     "execution_count": 17,
     "metadata": {},
     "output_type": "execute_result"
    }
   ],
   "source": [
    "a = it.select('.rankBtn_ctrl')[0]['class'][1][-1]\n",
    "b = it.select('.rankBtn_ctrl')[0]['class'][1][-1]\n",
    "a, b\n",
    "a + b"
   ]
  },
  {
   "cell_type": "code",
   "execution_count": 18,
   "metadata": {},
   "outputs": [],
   "source": [
    "if len(it.select('.rankBtn_ctrl')) == 1:\n",
    "    rank = it.select_one('.rankNumber.digit2').find('span')['class'][1][-1]\n",
    "    rank = int(rank)\n",
    "else:\n",
    "    a = it.select('.rankBtn_ctrl')[0]['class'][1][-1]\n",
    "    b = it.select('.rankBtn_ctrl')[1]['class'][1][-1]\n",
    "    rank = a + b"
   ]
  },
  {
   "cell_type": "code",
   "execution_count": 19,
   "metadata": {},
   "outputs": [
    {
     "data": {
      "text/plain": [
       "1"
      ]
     },
     "execution_count": 19,
     "metadata": {},
     "output_type": "execute_result"
    }
   ],
   "source": [
    "if len(it.select('.rankBtn_ctrl')) == 1:\n",
    "    rank = it.select_one('.rankNumber.digit2').find('span')['class'][1][-1]\n",
    "    rank = int(rank)\n",
    "else:\n",
    "    rank = it.select('.rankBtn_ctrl')[0]['class'][1][-1]\n",
    "    rank += it.select('.rankBtn_ctrl')[1]['class'][1][-1] # 아...!\n",
    "    rank = int(rank)\n",
    "rank"
   ]
  },
  {
   "cell_type": "code",
   "execution_count": 21,
   "metadata": {},
   "outputs": [
    {
     "data": {
      "text/plain": [
       "'트렌드 코리아 2022'"
      ]
     },
     "execution_count": 21,
     "metadata": {},
     "output_type": "execute_result"
    }
   ],
   "source": [
    "# 책제목\n",
    "title = it.select_one('.itemName').get_text().strip()\n",
    "title"
   ]
  },
  {
   "cell_type": "code",
   "execution_count": 22,
   "metadata": {},
   "outputs": [
    {
     "data": {
      "text/plain": [
       "'김난도(金蘭都), 전미영, 최지혜, 이향은, 이준영'"
      ]
     },
     "execution_count": 22,
     "metadata": {},
     "output_type": "execute_result"
    }
   ],
   "source": [
    "# 저자\n",
    "author = it.select_one('.itemMeta').select_one('.author').get_text().strip()\n",
    "author"
   ]
  },
  {
   "cell_type": "code",
   "execution_count": 23,
   "metadata": {},
   "outputs": [
    {
     "data": {
      "text/plain": [
       "'미래의창'"
      ]
     },
     "execution_count": 23,
     "metadata": {},
     "output_type": "execute_result"
    }
   ],
   "source": [
    "# 출판사\n",
    "company = it.select_one('.itemMeta').select_one('.company').get_text().strip()\n",
    "company"
   ]
  },
  {
   "cell_type": "code",
   "execution_count": 24,
   "metadata": {},
   "outputs": [
    {
     "data": {
      "text/plain": [
       "16200"
      ]
     },
     "execution_count": 24,
     "metadata": {},
     "output_type": "execute_result"
    }
   ],
   "source": [
    "# 가격\n",
    "price = it.select_one('.price').get_text().strip().replace('\\n원', '').replace(',', '') # 정수로 바꾸기 위해 원, 콤마 삭제\n",
    "price = int(price)\n",
    "price"
   ]
  },
  {
   "cell_type": "code",
   "execution_count": 26,
   "metadata": {},
   "outputs": [
    {
     "data": {
      "text/plain": [
       "16200"
      ]
     },
     "execution_count": 26,
     "metadata": {},
     "output_type": "execute_result"
    }
   ],
   "source": [
    "price = it.select_one('.price > em').get_text().strip() # 한단계 더 들어가서 텍스트 찾아오면 원 안 지워도 됨\n",
    "price = int(price.replace(',',''))\n",
    "price"
   ]
  },
  {
   "cell_type": "code",
   "execution_count": 27,
   "metadata": {},
   "outputs": [],
   "source": [
    "lines = []\n",
    "for it in itb:\n",
    "    if len(it.select('.rankBtn_ctrl')) == 1:\n",
    "        rank = it.select_one('.rankNumber.digit2').find('span')['class'][1][8:]\n",
    "        rank = int(rank)\n",
    "    else:\n",
    "        a = it.select('.rankBtn_ctrl')[0]['class'][1][8:]\n",
    "        b = it.select('.rankBtn_ctrl')[1]['class'][1][8:]\n",
    "        rank = a + b\n",
    "    title = it.select_one('.itemName').get_text()\n",
    "    author = it.select_one('.itemMeta').select_one('.author').get_text()\n",
    "    company = it.select_one('.itemMeta').select_one('.company').get_text()\n",
    "    price = it.select_one('.price').get_text().strip().replace('\\n원', '').replace(',', '')\n",
    "    price = int(price)\n",
    "    \n",
    "    lines.append([rank, title, author, company, price])"
   ]
  },
  {
   "cell_type": "code",
   "execution_count": 28,
   "metadata": {},
   "outputs": [
    {
     "data": {
      "text/html": [
       "<div>\n",
       "<style scoped>\n",
       "    .dataframe tbody tr th:only-of-type {\n",
       "        vertical-align: middle;\n",
       "    }\n",
       "\n",
       "    .dataframe tbody tr th {\n",
       "        vertical-align: top;\n",
       "    }\n",
       "\n",
       "    .dataframe thead th {\n",
       "        text-align: right;\n",
       "    }\n",
       "</style>\n",
       "<table border=\"1\" class=\"dataframe\">\n",
       "  <thead>\n",
       "    <tr style=\"text-align: right;\">\n",
       "      <th></th>\n",
       "      <th>랭킹</th>\n",
       "      <th>타이틀</th>\n",
       "      <th>저자</th>\n",
       "      <th>출판사</th>\n",
       "      <th>가격</th>\n",
       "    </tr>\n",
       "  </thead>\n",
       "  <tbody>\n",
       "    <tr>\n",
       "      <th>0</th>\n",
       "      <td>1</td>\n",
       "      <td>트렌드 코리아 2022</td>\n",
       "      <td>김난도(金蘭都), 전미영, 최지혜, 이향은, 이준영</td>\n",
       "      <td>미래의창</td>\n",
       "      <td>16200</td>\n",
       "    </tr>\n",
       "    <tr>\n",
       "      <th>1</th>\n",
       "      <td>2</td>\n",
       "      <td>불편한 편의점(15만부 기념 윈터 에디션)</td>\n",
       "      <td>김호연</td>\n",
       "      <td>나무옆의자</td>\n",
       "      <td>12600</td>\n",
       "    </tr>\n",
       "    <tr>\n",
       "      <th>2</th>\n",
       "      <td>3</td>\n",
       "      <td>오십에 읽는 논어</td>\n",
       "      <td>최종엽</td>\n",
       "      <td>유노북스</td>\n",
       "      <td>14400</td>\n",
       "    </tr>\n",
       "    <tr>\n",
       "      <th>3</th>\n",
       "      <td>3</td>\n",
       "      <td>거꾸로 읽는 세계사</td>\n",
       "      <td>유시민(柳時敏)</td>\n",
       "      <td>돌베개</td>\n",
       "      <td>15750</td>\n",
       "    </tr>\n",
       "    <tr>\n",
       "      <th>4</th>\n",
       "      <td>3</td>\n",
       "      <td>달러구트 꿈 백화점</td>\n",
       "      <td>이미예</td>\n",
       "      <td>팩토리나인</td>\n",
       "      <td>12420</td>\n",
       "    </tr>\n",
       "    <tr>\n",
       "      <th>5</th>\n",
       "      <td>3</td>\n",
       "      <td>오은영의 화해</td>\n",
       "      <td>오은영</td>\n",
       "      <td>코리아닷컴</td>\n",
       "      <td>14400</td>\n",
       "    </tr>\n",
       "    <tr>\n",
       "      <th>6</th>\n",
       "      <td>7</td>\n",
       "      <td>아직 오지 않은 날들을 위하여</td>\n",
       "      <td>파스칼 브뤼크네르/이세진 역</td>\n",
       "      <td>인플루엔셜</td>\n",
       "      <td>14400</td>\n",
       "    </tr>\n",
       "    <tr>\n",
       "      <th>7</th>\n",
       "      <td>7</td>\n",
       "      <td>어떻게 말해줘야 할까</td>\n",
       "      <td>오은영/차상미 그림</td>\n",
       "      <td>김영사</td>\n",
       "      <td>15750</td>\n",
       "    </tr>\n",
       "    <tr>\n",
       "      <th>8</th>\n",
       "      <td>9</td>\n",
       "      <td>투자는 디테일에 있다</td>\n",
       "      <td>김정환</td>\n",
       "      <td>부케이</td>\n",
       "      <td>16200</td>\n",
       "    </tr>\n",
       "    <tr>\n",
       "      <th>9</th>\n",
       "      <td>9</td>\n",
       "      <td>개미 5년, 세후 55억</td>\n",
       "      <td>성현우</td>\n",
       "      <td>모루</td>\n",
       "      <td>15300</td>\n",
       "    </tr>\n",
       "    <tr>\n",
       "      <th>10</th>\n",
       "      <td>9</td>\n",
       "      <td>거인의 포트폴리오</td>\n",
       "      <td>강환국</td>\n",
       "      <td>페이지2북스</td>\n",
       "      <td>16200</td>\n",
       "    </tr>\n",
       "    <tr>\n",
       "      <th>11</th>\n",
       "      <td>9</td>\n",
       "      <td>달러구트 꿈 백화점. 2</td>\n",
       "      <td>이미예</td>\n",
       "      <td>팩토리나인</td>\n",
       "      <td>12420</td>\n",
       "    </tr>\n",
       "    <tr>\n",
       "      <th>12</th>\n",
       "      <td>9</td>\n",
       "      <td>돈의 속성(150쇄 기념 에디션)</td>\n",
       "      <td>김승호</td>\n",
       "      <td>스노우폭스북스</td>\n",
       "      <td>15120</td>\n",
       "    </tr>\n",
       "    <tr>\n",
       "      <th>13</th>\n",
       "      <td>14</td>\n",
       "      <td>소크라테스 익스프레스(20만 부 기념 윈터 에디션)</td>\n",
       "      <td>에릭 와이너/김하현 역</td>\n",
       "      <td>어크로스</td>\n",
       "      <td>16200</td>\n",
       "    </tr>\n",
       "    <tr>\n",
       "      <th>14</th>\n",
       "      <td>14</td>\n",
       "      <td>웰씽킹(Wealthinking)</td>\n",
       "      <td>켈리 최</td>\n",
       "      <td>다산북스</td>\n",
       "      <td>14400</td>\n",
       "    </tr>\n",
       "  </tbody>\n",
       "</table>\n",
       "</div>"
      ],
      "text/plain": [
       "    랭킹                            타이틀                            저자      출판사  \\\n",
       "0    1                  트렌드 코리아 2022   김난도(金蘭都), 전미영, 최지혜, 이향은, 이준영     미래의창   \n",
       "1    2       불편한 편의점(15만부 기념 윈터 에디션)                            김호연    나무옆의자   \n",
       "2    3                     오십에 읽는 논어                            최종엽     유노북스   \n",
       "3    3                    거꾸로 읽는 세계사                       유시민(柳時敏)      돌베개   \n",
       "4    3                    달러구트 꿈 백화점                            이미예    팩토리나인   \n",
       "5    3                       오은영의 화해                            오은영    코리아닷컴   \n",
       "6    7              아직 오지 않은 날들을 위하여                파스칼 브뤼크네르/이세진 역    인플루엔셜   \n",
       "7    7                   어떻게 말해줘야 할까                     오은영/차상미 그림      김영사   \n",
       "8    9                   투자는 디테일에 있다                            김정환      부케이   \n",
       "9    9                 개미 5년, 세후 55억                            성현우       모루   \n",
       "10   9                     거인의 포트폴리오                            강환국   페이지2북스   \n",
       "11   9                 달러구트 꿈 백화점. 2                            이미예    팩토리나인   \n",
       "12   9            돈의 속성(150쇄 기념 에디션)                            김승호  스노우폭스북스   \n",
       "13  14  소크라테스 익스프레스(20만 부 기념 윈터 에디션)                   에릭 와이너/김하현 역     어크로스   \n",
       "14  14             웰씽킹(Wealthinking)                           켈리 최     다산북스   \n",
       "\n",
       "       가격  \n",
       "0   16200  \n",
       "1   12600  \n",
       "2   14400  \n",
       "3   15750  \n",
       "4   12420  \n",
       "5   14400  \n",
       "6   14400  \n",
       "7   15750  \n",
       "8   16200  \n",
       "9   15300  \n",
       "10  16200  \n",
       "11  12420  \n",
       "12  15120  \n",
       "13  16200  \n",
       "14  14400  "
      ]
     },
     "execution_count": 28,
     "metadata": {},
     "output_type": "execute_result"
    }
   ],
   "source": [
    "df = pd.DataFrame(lines, columns=['랭킹', '타이틀', '저자', '출판사', '가격'])\n",
    "df"
   ]
  },
  {
   "cell_type": "code",
   "execution_count": null,
   "metadata": {},
   "outputs": [],
   "source": [
    "df.to_html('인터파크당일베스트15(211206).html', index=False)"
   ]
  },
  {
   "cell_type": "code",
   "execution_count": 29,
   "metadata": {},
   "outputs": [
    {
     "data": {
      "text/plain": [
       "'http://book.interpark.com/product/BookDisplay.do?_method=detail&sc.shopNo=0000400000&sc.prdNo=354278137&sc.saNo=003003001&bid1=Best_zone&bid2=LiveRanking&bid3=PRD&bid4=001'"
      ]
     },
     "execution_count": 29,
     "metadata": {},
     "output_type": "execute_result"
    }
   ],
   "source": [
    "# 발행일과 쪽수를 구하기 위해 책 상세 페이지로\n",
    "href = it.select_one('a')['href']\n",
    "href\n",
    "inurl = 'http://book.interpark.com'\n",
    "sub_url = inurl + href\n",
    "sub_url"
   ]
  },
  {
   "cell_type": "code",
   "execution_count": 30,
   "metadata": {},
   "outputs": [],
   "source": [
    "# 발행일을 숫자 여섯 자리로 만들기\n",
    "sub_req = requests.get(sub_url)\n",
    "sub_html = sub_req.text\n",
    "sub_soup = BeautifulSoup(sub_html, 'html.parser')\n",
    "publ1 = sub_soup.select_one('.optionRight_wrap > div.bookInfoBox > ul').get_text().split('\\n')[3][5:].split()[0][2:4]\n",
    "publ2 = sub_soup.select_one('.optionRight_wrap > div.bookInfoBox > ul').get_text().split('\\n')[3][5:].split()[1][:2]\n",
    "publ3 = sub_soup.select_one('.optionRight_wrap > div.bookInfoBox > ul').get_text().split('\\n')[3][5:].split()[2][:2]\n",
    "publ = publ1 + publ2 + publ3"
   ]
  },
  {
   "cell_type": "code",
   "execution_count": 40,
   "metadata": {},
   "outputs": [
    {
     "data": {
      "text/plain": [
       "'2021년 11월 10일'"
      ]
     },
     "execution_count": 40,
     "metadata": {},
     "output_type": "execute_result"
    }
   ],
   "source": [
    "# 발행일 참고\n",
    "url = inurl + href\n",
    "res = requests.get(url)\n",
    "sub_soup = BeautifulSoup(res.text, 'html.parser')\n",
    "sub_lis = sub_soup.select('ul.bInfo_txt > li')\n",
    "date = sub_lis[-3].get_text().split(':')[1].strip()\n",
    "date"
   ]
  },
  {
   "cell_type": "code",
   "execution_count": 43,
   "metadata": {},
   "outputs": [
    {
     "data": {
      "text/plain": [
       "'20211110'"
      ]
     },
     "execution_count": 43,
     "metadata": {},
     "output_type": "execute_result"
    }
   ],
   "source": [
    "# 정규표현식!!!!!!!!!!!!!!!!!!!!!!!!!!!!!\n",
    "import re\n",
    "date = re.sub('[^0-9]','',date)\n",
    "date # 아...."
   ]
  },
  {
   "cell_type": "code",
   "execution_count": 44,
   "metadata": {},
   "outputs": [
    {
     "data": {
      "text/plain": [
       "316"
      ]
     },
     "execution_count": 44,
     "metadata": {},
     "output_type": "execute_result"
    }
   ],
   "source": [
    "pag = sub_soup.select_one('.optionRight_wrap > div.bookInfoBox > ul').get_text().split('\\n')[4][5:]\n",
    "# addr = sub_soup.select_one('.txt_adr').get_text()\n",
    "pag = int(pag)\n",
    "pag"
   ]
  },
  {
   "cell_type": "code",
   "execution_count": 48,
   "metadata": {},
   "outputs": [
    {
     "data": {
      "text/plain": [
       "'316'"
      ]
     },
     "execution_count": 48,
     "metadata": {},
     "output_type": "execute_result"
    }
   ],
   "source": [
    "sub_lis[-2].get_text().split(':')[1].strip()"
   ]
  },
  {
   "cell_type": "code",
   "execution_count": 49,
   "metadata": {},
   "outputs": [],
   "source": [
    "lines = []\n",
    "for it in itb:\n",
    "    if len(it.select('.rankBtn_ctrl')) == 1: # 랭킹구하기. 랭킹이 한줄이면 그대로()\n",
    "        rank = it.select_one('.rankNumber.digit2').find('span')['class'][1][8:]\n",
    "        rank = int(rank)\n",
    "    else:\n",
    "        a = it.select('.rankBtn_ctrl')[0]['class'][1][8:]\n",
    "        b = it.select('.rankBtn_ctrl')[1]['class'][1][8:]\n",
    "        rank = a + b\n",
    "    title = it.select_one('.itemName').get_text()\n",
    "    author = it.select_one('.itemMeta').select_one('.author').get_text()\n",
    "    company = it.select_one('.itemMeta').select_one('.company').get_text()\n",
    "    price = it.select_one('.price').get_text().strip().replace('\\n원', '').replace(',', '')\n",
    "    price = int(price)\n",
    "\n",
    "    href = it.select_one('a')['href']\n",
    "    sub_url = inurl + href\n",
    "    sub_req = requests.get(sub_url)\n",
    "    sub_html = sub_req.text\n",
    "    sub_soup = BeautifulSoup(sub_html, 'html.parser')\n",
    "    publ = sub_soup.select_one('.optionRight_wrap > div.bookInfoBox > ul').get_text().split('\\n')[3][5:].split()[0][2:4] + sub_soup.select_one('.optionRight_wrap > div.bookInfoBox > ul').get_text().split('\\n')[3][5:].split()[1][:2] + sub_soup.select_one('.optionRight_wrap > div.bookInfoBox > ul').get_text().split('\\n')[3][5:].split()[2][:2]\n",
    "    pag = sub_soup.select_one('.optionRight_wrap > div.bookInfoBox > ul').get_text().split('\\n')[4][5:]\n",
    "    pag = int(pag)\n",
    "    \n",
    "    lines.append([rank, title, author, company, price, publ, pag])"
   ]
  },
  {
   "cell_type": "code",
   "execution_count": 50,
   "metadata": {},
   "outputs": [
    {
     "data": {
      "text/html": [
       "<div>\n",
       "<style scoped>\n",
       "    .dataframe tbody tr th:only-of-type {\n",
       "        vertical-align: middle;\n",
       "    }\n",
       "\n",
       "    .dataframe tbody tr th {\n",
       "        vertical-align: top;\n",
       "    }\n",
       "\n",
       "    .dataframe thead th {\n",
       "        text-align: right;\n",
       "    }\n",
       "</style>\n",
       "<table border=\"1\" class=\"dataframe\">\n",
       "  <thead>\n",
       "    <tr style=\"text-align: right;\">\n",
       "      <th></th>\n",
       "      <th>랭킹</th>\n",
       "      <th>타이틀</th>\n",
       "      <th>저자</th>\n",
       "      <th>출판사</th>\n",
       "      <th>가격</th>\n",
       "      <th>발행일</th>\n",
       "      <th>쪽수</th>\n",
       "    </tr>\n",
       "  </thead>\n",
       "  <tbody>\n",
       "    <tr>\n",
       "      <th>0</th>\n",
       "      <td>1</td>\n",
       "      <td>트렌드 코리아 2022</td>\n",
       "      <td>김난도(金蘭都), 전미영, 최지혜, 이향은, 이준영</td>\n",
       "      <td>미래의창</td>\n",
       "      <td>16200</td>\n",
       "      <td>211006</td>\n",
       "      <td>452</td>\n",
       "    </tr>\n",
       "    <tr>\n",
       "      <th>1</th>\n",
       "      <td>2</td>\n",
       "      <td>불편한 편의점(15만부 기념 윈터 에디션)</td>\n",
       "      <td>김호연</td>\n",
       "      <td>나무옆의자</td>\n",
       "      <td>12600</td>\n",
       "      <td>210420</td>\n",
       "      <td>268</td>\n",
       "    </tr>\n",
       "    <tr>\n",
       "      <th>2</th>\n",
       "      <td>3</td>\n",
       "      <td>오십에 읽는 논어</td>\n",
       "      <td>최종엽</td>\n",
       "      <td>유노북스</td>\n",
       "      <td>14400</td>\n",
       "      <td>211103</td>\n",
       "      <td>300</td>\n",
       "    </tr>\n",
       "    <tr>\n",
       "      <th>3</th>\n",
       "      <td>3</td>\n",
       "      <td>거꾸로 읽는 세계사</td>\n",
       "      <td>유시민(柳時敏)</td>\n",
       "      <td>돌베개</td>\n",
       "      <td>15750</td>\n",
       "      <td>211029</td>\n",
       "      <td>404</td>\n",
       "    </tr>\n",
       "    <tr>\n",
       "      <th>4</th>\n",
       "      <td>3</td>\n",
       "      <td>달러구트 꿈 백화점</td>\n",
       "      <td>이미예</td>\n",
       "      <td>팩토리나인</td>\n",
       "      <td>12420</td>\n",
       "      <td>200708</td>\n",
       "      <td>300</td>\n",
       "    </tr>\n",
       "    <tr>\n",
       "      <th>5</th>\n",
       "      <td>3</td>\n",
       "      <td>오은영의 화해</td>\n",
       "      <td>오은영</td>\n",
       "      <td>코리아닷컴</td>\n",
       "      <td>14400</td>\n",
       "      <td>190110</td>\n",
       "      <td>320</td>\n",
       "    </tr>\n",
       "    <tr>\n",
       "      <th>6</th>\n",
       "      <td>7</td>\n",
       "      <td>아직 오지 않은 날들을 위하여</td>\n",
       "      <td>파스칼 브뤼크네르/이세진 역</td>\n",
       "      <td>인플루엔셜</td>\n",
       "      <td>14400</td>\n",
       "      <td>211112</td>\n",
       "      <td>320</td>\n",
       "    </tr>\n",
       "    <tr>\n",
       "      <th>7</th>\n",
       "      <td>7</td>\n",
       "      <td>어떻게 말해줘야 할까</td>\n",
       "      <td>오은영/차상미 그림</td>\n",
       "      <td>김영사</td>\n",
       "      <td>15750</td>\n",
       "      <td>201025</td>\n",
       "      <td>400</td>\n",
       "    </tr>\n",
       "    <tr>\n",
       "      <th>8</th>\n",
       "      <td>9</td>\n",
       "      <td>투자는 디테일에 있다</td>\n",
       "      <td>김정환</td>\n",
       "      <td>부케이</td>\n",
       "      <td>16200</td>\n",
       "      <td>211210</td>\n",
       "      <td>424</td>\n",
       "    </tr>\n",
       "    <tr>\n",
       "      <th>9</th>\n",
       "      <td>9</td>\n",
       "      <td>개미 5년, 세후 55억</td>\n",
       "      <td>성현우</td>\n",
       "      <td>모루</td>\n",
       "      <td>15300</td>\n",
       "      <td>211201</td>\n",
       "      <td>276</td>\n",
       "    </tr>\n",
       "    <tr>\n",
       "      <th>10</th>\n",
       "      <td>9</td>\n",
       "      <td>거인의 포트폴리오</td>\n",
       "      <td>강환국</td>\n",
       "      <td>페이지2북스</td>\n",
       "      <td>16200</td>\n",
       "      <td>211108</td>\n",
       "      <td>404</td>\n",
       "    </tr>\n",
       "    <tr>\n",
       "      <th>11</th>\n",
       "      <td>9</td>\n",
       "      <td>달러구트 꿈 백화점. 2</td>\n",
       "      <td>이미예</td>\n",
       "      <td>팩토리나인</td>\n",
       "      <td>12420</td>\n",
       "      <td>210727</td>\n",
       "      <td>308</td>\n",
       "    </tr>\n",
       "    <tr>\n",
       "      <th>12</th>\n",
       "      <td>9</td>\n",
       "      <td>돈의 속성(150쇄 기념 에디션)</td>\n",
       "      <td>김승호</td>\n",
       "      <td>스노우폭스북스</td>\n",
       "      <td>15120</td>\n",
       "      <td>200615</td>\n",
       "      <td>283</td>\n",
       "    </tr>\n",
       "    <tr>\n",
       "      <th>13</th>\n",
       "      <td>14</td>\n",
       "      <td>소크라테스 익스프레스(20만 부 기념 윈터 에디션)</td>\n",
       "      <td>에릭 와이너/김하현 역</td>\n",
       "      <td>어크로스</td>\n",
       "      <td>16200</td>\n",
       "      <td>211126</td>\n",
       "      <td>524</td>\n",
       "    </tr>\n",
       "    <tr>\n",
       "      <th>14</th>\n",
       "      <td>14</td>\n",
       "      <td>웰씽킹(Wealthinking)</td>\n",
       "      <td>켈리 최</td>\n",
       "      <td>다산북스</td>\n",
       "      <td>14400</td>\n",
       "      <td>211110</td>\n",
       "      <td>316</td>\n",
       "    </tr>\n",
       "  </tbody>\n",
       "</table>\n",
       "</div>"
      ],
      "text/plain": [
       "    랭킹                            타이틀                            저자      출판사  \\\n",
       "0    1                  트렌드 코리아 2022   김난도(金蘭都), 전미영, 최지혜, 이향은, 이준영     미래의창   \n",
       "1    2       불편한 편의점(15만부 기념 윈터 에디션)                            김호연    나무옆의자   \n",
       "2    3                     오십에 읽는 논어                            최종엽     유노북스   \n",
       "3    3                    거꾸로 읽는 세계사                       유시민(柳時敏)      돌베개   \n",
       "4    3                    달러구트 꿈 백화점                            이미예    팩토리나인   \n",
       "5    3                       오은영의 화해                            오은영    코리아닷컴   \n",
       "6    7              아직 오지 않은 날들을 위하여                파스칼 브뤼크네르/이세진 역    인플루엔셜   \n",
       "7    7                   어떻게 말해줘야 할까                     오은영/차상미 그림      김영사   \n",
       "8    9                   투자는 디테일에 있다                            김정환      부케이   \n",
       "9    9                 개미 5년, 세후 55억                            성현우       모루   \n",
       "10   9                     거인의 포트폴리오                            강환국   페이지2북스   \n",
       "11   9                 달러구트 꿈 백화점. 2                            이미예    팩토리나인   \n",
       "12   9            돈의 속성(150쇄 기념 에디션)                            김승호  스노우폭스북스   \n",
       "13  14  소크라테스 익스프레스(20만 부 기념 윈터 에디션)                   에릭 와이너/김하현 역     어크로스   \n",
       "14  14             웰씽킹(Wealthinking)                           켈리 최     다산북스   \n",
       "\n",
       "       가격     발행일   쪽수  \n",
       "0   16200  211006  452  \n",
       "1   12600  210420  268  \n",
       "2   14400  211103  300  \n",
       "3   15750  211029  404  \n",
       "4   12420  200708  300  \n",
       "5   14400  190110  320  \n",
       "6   14400  211112  320  \n",
       "7   15750  201025  400  \n",
       "8   16200  211210  424  \n",
       "9   15300  211201  276  \n",
       "10  16200  211108  404  \n",
       "11  12420  210727  308  \n",
       "12  15120  200615  283  \n",
       "13  16200  211126  524  \n",
       "14  14400  211110  316  "
      ]
     },
     "execution_count": 50,
     "metadata": {},
     "output_type": "execute_result"
    }
   ],
   "source": [
    "df = pd.DataFrame(lines, columns=['랭킹', '타이틀', '저자', '출판사', '가격', '발행일', '쪽수'])\n",
    "df"
   ]
  },
  {
   "cell_type": "code",
   "execution_count": null,
   "metadata": {},
   "outputs": [],
   "source": [
    "df.to_html('한은지_인터파크_발행일쪽수.html', index=False)"
   ]
  },
  {
   "cell_type": "code",
   "execution_count": 51,
   "metadata": {},
   "outputs": [],
   "source": [
    "df.to_csv('인터파크_베스트셀러(211207).csv', index=False)"
   ]
  }
 ],
 "metadata": {
  "interpreter": {
   "hash": "57728f4bfd9bc978c25d5c9cdcf277be28bad00a01dc89349b2fca774db23ac6"
  },
  "kernelspec": {
   "display_name": "Python 3.8.8 64-bit ('base': conda)",
   "language": "python",
   "name": "python3"
  },
  "language_info": {
   "codemirror_mode": {
    "name": "ipython",
    "version": 3
   },
   "file_extension": ".py",
   "mimetype": "text/x-python",
   "name": "python",
   "nbconvert_exporter": "python",
   "pygments_lexer": "ipython3",
   "version": "3.8.8"
  },
  "orig_nbformat": 4
 },
 "nbformat": 4,
 "nbformat_minor": 2
}
