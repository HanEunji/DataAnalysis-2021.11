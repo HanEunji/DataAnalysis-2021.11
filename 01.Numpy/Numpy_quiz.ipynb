{
 "cells": [
  {
   "cell_type": "markdown",
   "metadata": {},
   "source": [
    "# 2021/11/26 Numpy Quiz"
   ]
  },
  {
   "cell_type": "code",
   "execution_count": 1,
   "metadata": {},
   "outputs": [],
   "source": [
    "import numpy as np"
   ]
  },
  {
   "cell_type": "markdown",
   "metadata": {},
   "source": [
    "### 1. 넘파이를 사용하여 다음과 같은 행렬을 만드시오.\n",
    "##### 10 20 30 40\n",
    "##### 50 60 70 80"
   ]
  },
  {
   "cell_type": "code",
   "execution_count": 5,
   "metadata": {},
   "outputs": [
    {
     "data": {
      "text/plain": [
       "array([[10, 20, 30, 40],\n",
       "       [50, 60, 70, 80]])"
      ]
     },
     "execution_count": 5,
     "metadata": {},
     "output_type": "execute_result"
    }
   ],
   "source": [
    "a = np.arange(10,81,10)\n",
    "a.reshape(2,4)"
   ]
  },
  {
   "cell_type": "code",
   "execution_count": 34,
   "metadata": {},
   "outputs": [
    {
     "data": {
      "text/plain": [
       "array([[10, 20, 30, 40],\n",
       "       [50, 60, 70, 80]])"
      ]
     },
     "execution_count": 34,
     "metadata": {},
     "output_type": "execute_result"
    }
   ],
   "source": [
    "np.arange(10,81,10).reshape(2,4)"
   ]
  },
  {
   "cell_type": "markdown",
   "metadata": {},
   "source": [
    "### 2. 다음 행렬과 같은 행렬이 있다.\n",
    "- m = np.array([[ 0,  1,  2,  3,  4],\n",
    "- [ 5,  6,  7,  8,  9],\n",
    "- [10, 11, 12, 13, 14]])\n",
    "#### 1)이    행렬에서    값    7 을    인덱싱한다.\n",
    "#### 2) 이    행렬에서    값    14 을    인덱싱한다.\n",
    "#### 3) 이    행렬에서    배열   [6, 7] 을    슬라이싱한다.\n",
    "#### 4) 이    행렬에서    배열   [7, 12] 을    슬라이싱한다.\n",
    "#### 5) 이    행렬에서    배열   [[3, 4], [8, 9]] 을    슬라이싱한다."
   ]
  },
  {
   "cell_type": "code",
   "execution_count": 8,
   "metadata": {},
   "outputs": [
    {
     "data": {
      "text/plain": [
       "array([[ 0,  1,  2,  3,  4],\n",
       "       [ 5,  6,  7,  8,  9],\n",
       "       [10, 11, 12, 13, 14]])"
      ]
     },
     "execution_count": 8,
     "metadata": {},
     "output_type": "execute_result"
    }
   ],
   "source": [
    "l = np.arange(15)\n",
    "m = l.reshape(3,5)\n",
    "m"
   ]
  },
  {
   "cell_type": "code",
   "execution_count": 33,
   "metadata": {},
   "outputs": [
    {
     "data": {
      "text/plain": [
       "array([[ 0,  1,  2,  3,  4],\n",
       "       [ 5,  6,  7,  8,  9],\n",
       "       [10, 11, 12, 13, 14]])"
      ]
     },
     "execution_count": 33,
     "metadata": {},
     "output_type": "execute_result"
    }
   ],
   "source": [
    "m = np.arange(15).reshape(3,5)\n",
    "m"
   ]
  },
  {
   "cell_type": "code",
   "execution_count": 9,
   "metadata": {},
   "outputs": [
    {
     "data": {
      "text/plain": [
       "7"
      ]
     },
     "execution_count": 9,
     "metadata": {},
     "output_type": "execute_result"
    }
   ],
   "source": [
    "# 1) 값 7을 인덱싱\n",
    "m[1,2]"
   ]
  },
  {
   "cell_type": "code",
   "execution_count": 14,
   "metadata": {},
   "outputs": [
    {
     "data": {
      "text/plain": [
       "14"
      ]
     },
     "execution_count": 14,
     "metadata": {},
     "output_type": "execute_result"
    }
   ],
   "source": [
    "# 2) 값 14를 인덱싱\n",
    "m[2,4]\n",
    "\n",
    "# 처음에 m[2,5]로 써서 인덱스 에러 발생. 0부터 시작함."
   ]
  },
  {
   "cell_type": "code",
   "execution_count": 30,
   "metadata": {},
   "outputs": [
    {
     "data": {
      "text/plain": [
       "array([6, 7])"
      ]
     },
     "execution_count": 30,
     "metadata": {},
     "output_type": "execute_result"
    }
   ],
   "source": [
    "# 3) 배열 [6,7]을 슬라이싱\n",
    "m[1, 1:3]\n",
    "\n",
    "# 처음 m[1,1:2] 로 써서 6만 자름. 끝 숫자 포함 안 됨."
   ]
  },
  {
   "cell_type": "code",
   "execution_count": 25,
   "metadata": {},
   "outputs": [
    {
     "data": {
      "text/plain": [
       "array([ 7, 12])"
      ]
     },
     "execution_count": 25,
     "metadata": {},
     "output_type": "execute_result"
    }
   ],
   "source": [
    "# 4) 배열 [7,12]을 슬라이싱\n",
    "# m[1:, 2:3]\n",
    "m[1:,2]\n",
    "\n",
    "# 숫자 천천히 세기."
   ]
  },
  {
   "cell_type": "code",
   "execution_count": 27,
   "metadata": {},
   "outputs": [
    {
     "data": {
      "text/plain": [
       "array([[3, 4],\n",
       "       [8, 9]])"
      ]
     },
     "execution_count": 27,
     "metadata": {},
     "output_type": "execute_result"
    }
   ],
   "source": [
    "# 5) 배열 [[3,4],[8,9]]을 슬라이싱\n",
    "m[:2, 3:]"
   ]
  },
  {
   "cell_type": "markdown",
   "metadata": {},
   "source": [
    "### 3. 2번의    행렬    m을    1차원    벡터    f 로    변환한    후    다음의    문제를    푸시오.\n",
    "#### 1) 이    배열에서    3의    배수를    찾아라.\n",
    "#### 2) 이    배열에서    4로    나누면    1이    남는    수를    찾아라.\n",
    "#### 3) 이    배열에서    3으로   나누면    나누어지고    4로    나누면    1이    남는    수를    찾아라."
   ]
  },
  {
   "cell_type": "code",
   "execution_count": 36,
   "metadata": {},
   "outputs": [
    {
     "data": {
      "text/plain": [
       "array([ 0,  1,  2,  3,  4,  5,  6,  7,  8,  9, 10, 11, 12, 13, 14])"
      ]
     },
     "execution_count": 36,
     "metadata": {},
     "output_type": "execute_result"
    }
   ],
   "source": [
    "f = m.reshape(15)\n",
    "f"
   ]
  },
  {
   "cell_type": "code",
   "execution_count": 44,
   "metadata": {},
   "outputs": [
    {
     "name": "stdout",
     "output_type": "stream",
     "text": [
      "[3, 6, 9, 12]\n"
     ]
    }
   ],
   "source": [
    "# 3의 배수 찾기\n",
    "g = []\n",
    "for i in range(len(f)):\n",
    "    if i != 0:\n",
    "        if i % 3 == 0:    \n",
    "            g.append(i)\n",
    "print(g)"
   ]
  },
  {
   "cell_type": "code",
   "execution_count": 47,
   "metadata": {},
   "outputs": [
    {
     "data": {
      "text/plain": [
       "[3, 6, 9, 12]"
      ]
     },
     "execution_count": 47,
     "metadata": {},
     "output_type": "execute_result"
    }
   ],
   "source": [
    "g = [i for i in range(len(f)) if i !=0 if i % 3 == 0]\n",
    "g"
   ]
  },
  {
   "cell_type": "code",
   "execution_count": 49,
   "metadata": {},
   "outputs": [
    {
     "data": {
      "text/plain": [
       "[3, 6, 9, 12]"
      ]
     },
     "execution_count": 49,
     "metadata": {},
     "output_type": "execute_result"
    }
   ],
   "source": [
    "# 1) 배열 안에서 3의 배수 찾기\n",
    "g = [i for i in f if i != 0 if i % 3 == 0]\n",
    "g"
   ]
  },
  {
   "cell_type": "code",
   "execution_count": 51,
   "metadata": {},
   "outputs": [
    {
     "data": {
      "text/plain": [
       "[1, 5, 9, 13]"
      ]
     },
     "execution_count": 51,
     "metadata": {},
     "output_type": "execute_result"
    }
   ],
   "source": [
    "# 2) 배열에서 4로 나누어 1이 남는 수 찾기\n",
    "g = [i for i in f if i % 4 == 1]\n",
    "g"
   ]
  },
  {
   "cell_type": "code",
   "execution_count": 53,
   "metadata": {},
   "outputs": [
    {
     "data": {
      "text/plain": [
       "[9]"
      ]
     },
     "execution_count": 53,
     "metadata": {},
     "output_type": "execute_result"
    }
   ],
   "source": [
    "# 3) 배열에서 3으로 나누면 나누어지고 4로 나누면 1이 남는 수 찾기\n",
    "g = [i for i in f if i % 3 == 0 and i % 4 == 1]\n",
    "g"
   ]
  },
  {
   "cell_type": "markdown",
   "metadata": {},
   "source": [
    "### 4. 값을 직접 입력하지 말고 우측의 행렬을 만드시오.\n",
    "- 2, 1, 0, 0, 0\n",
    "- 3, 2, 1, 0, 0\n",
    "- 0, 3, 2, 1, 0\n",
    "- 0, 0, 3, 2, 1\n",
    "- 0, 0, 0, 3, 2"
   ]
  },
  {
   "cell_type": "code",
   "execution_count": 57,
   "metadata": {},
   "outputs": [
    {
     "name": "stdout",
     "output_type": "stream",
     "text": [
      "[[2 1 0 0 0]\n",
      " [3 2 1 0 0]\n",
      " [0 3 2 1 0]\n",
      " [0 0 3 2 1]\n",
      " [0 0 0 3 2]]\n"
     ]
    }
   ],
   "source": [
    "# 1. eye로 5 x 5 행렬 6개 만들어서 다 더하기\n",
    "a = np.eye(5, k=1, dtype=int)\n",
    "b = np.eye(5, dtype=int)\n",
    "c = np.eye(5, dtype=int)\n",
    "d = np.eye(5, k=-1, dtype=int)\n",
    "e = np.eye(5, k=-1, dtype=int)\n",
    "f = np.eye(5, k=-1, dtype=int)\n",
    "print(a + b + c + d + e + f)"
   ]
  },
  {
   "cell_type": "code",
   "execution_count": 60,
   "metadata": {},
   "outputs": [
    {
     "data": {
      "text/plain": [
       "array([[2, 1, 0, 0, 0],\n",
       "       [3, 2, 1, 0, 0],\n",
       "       [0, 3, 2, 1, 0],\n",
       "       [0, 0, 3, 2, 1],\n",
       "       [0, 0, 0, 3, 2]])"
      ]
     },
     "execution_count": 60,
     "metadata": {},
     "output_type": "execute_result"
    }
   ],
   "source": [
    "a = (np.eye(5, k=1, dtype=int))+(np.eye(5, dtype=int))+(np.eye(5, dtype=int))+(np.eye(5, k=-1, dtype=int))+np.eye(5, k=-1, dtype=int)+(np.eye(5, k=-1, dtype=int))\n",
    "a"
   ]
  },
  {
   "cell_type": "code",
   "execution_count": 61,
   "metadata": {},
   "outputs": [
    {
     "data": {
      "text/plain": [
       "array([[2, 1, 0, 0, 0],\n",
       "       [3, 2, 1, 0, 0],\n",
       "       [0, 3, 2, 1, 0],\n",
       "       [0, 0, 3, 2, 1],\n",
       "       [0, 0, 0, 3, 2]])"
      ]
     },
     "execution_count": 61,
     "metadata": {},
     "output_type": "execute_result"
    }
   ],
   "source": [
    "a = (np.eye(5, k=1, dtype=int))+(np.eye(5, dtype=int))*2+(np.eye(5, k=-1, dtype=int))*3\n",
    "a"
   ]
  },
  {
   "cell_type": "markdown",
   "metadata": {},
   "source": [
    "### 5. 0에서 10까지 랜덤 실수값으로 이루어진 5 x 6 형태의 데이터 행렬을 들고 이 데이터에 대해 다음과 같은 값을 구하시오.\n",
    "#### 1) 전체의 최댓값\n",
    "#### 2) 각 행의 합\n",
    "#### 3) 각 행의 최댓값\n",
    "#### 4) 각 열의 평균\n",
    "#### 5) 각 열의 최솟값"
   ]
  },
  {
   "cell_type": "code",
   "execution_count": 96,
   "metadata": {},
   "outputs": [
    {
     "data": {
      "text/plain": [
       "array([[0.98, 3.25, 0.08, 2.52, 6.03, 8.86],\n",
       "       [0.57, 3.88, 5.65, 8.31, 0.4 , 2.94],\n",
       "       [5.27, 2.  , 4.69, 3.11, 1.26, 9.51],\n",
       "       [0.82, 6.36, 7.93, 7.85, 0.65, 2.85],\n",
       "       [2.42, 2.27, 5.73, 2.6 , 3.18, 4.96]])"
      ]
     },
     "execution_count": 96,
     "metadata": {},
     "output_type": "execute_result"
    }
   ],
   "source": [
    "# 0에서 10까지 랜덤 실수값으로 이루어진 5 x 6 형태의 행렬\n",
    "a = np.random.rand(5, 6).round(3) * 10\n",
    "a\n",
    "\n",
    "# 길어서 소수점 둘째자리까지 자름"
   ]
  },
  {
   "cell_type": "code",
   "execution_count": 97,
   "metadata": {},
   "outputs": [
    {
     "data": {
      "text/plain": [
       "9.51"
      ]
     },
     "execution_count": 97,
     "metadata": {},
     "output_type": "execute_result"
    }
   ],
   "source": [
    "# 1) 전체의 최댓값\n",
    "np.max(a)\n"
   ]
  },
  {
   "cell_type": "code",
   "execution_count": 98,
   "metadata": {},
   "outputs": [
    {
     "data": {
      "text/plain": [
       "array([21.72, 21.75, 25.84, 26.46, 21.16])"
      ]
     },
     "execution_count": 98,
     "metadata": {},
     "output_type": "execute_result"
    }
   ],
   "source": [
    "# 2) 각 행의 합\n",
    "a.sum(axis=1)"
   ]
  },
  {
   "cell_type": "code",
   "execution_count": 99,
   "metadata": {},
   "outputs": [
    {
     "data": {
      "text/plain": [
       "array([8.86, 8.31, 9.51, 7.93, 5.73])"
      ]
     },
     "execution_count": 99,
     "metadata": {},
     "output_type": "execute_result"
    }
   ],
   "source": [
    "# 3) 각 행의 최댓값\n",
    "np.max(a, axis=1)"
   ]
  },
  {
   "cell_type": "code",
   "execution_count": 102,
   "metadata": {},
   "outputs": [
    {
     "data": {
      "text/plain": [
       "array([2.012, 3.552, 4.816, 4.878, 2.304, 5.824])"
      ]
     },
     "execution_count": 102,
     "metadata": {},
     "output_type": "execute_result"
    }
   ],
   "source": [
    "# 4) 각 열의 평균\n",
    "a.mean(axis=0)"
   ]
  },
  {
   "cell_type": "code",
   "execution_count": 103,
   "metadata": {},
   "outputs": [
    {
     "data": {
      "text/plain": [
       "array([0.57, 2.  , 0.08, 2.52, 0.4 , 2.85])"
      ]
     },
     "execution_count": 103,
     "metadata": {},
     "output_type": "execute_result"
    }
   ],
   "source": [
    "# 5) 각 열의 최솟값\n",
    "np.min(a, axis=0)"
   ]
  },
  {
   "cell_type": "markdown",
   "metadata": {},
   "source": [
    "### 6. 다음 배열은 첫번째 행(row)에 학번, 두번째 행에 영어 성적, 세번째 행에 수학 성적을 적은 배열이다. 영어 성적을 기준으로 각 열(column)을 재정렬하시오.\n",
    "- array([[  1,    2,    3,    4],\n",
    "- [ 46,   99,  100,   71],\n",
    "- [ 81,   59,   90,  100]])"
   ]
  },
  {
   "cell_type": "code",
   "execution_count": 128,
   "metadata": {},
   "outputs": [
    {
     "data": {
      "text/plain": [
       "array([[  1,   2,   3,   4],\n",
       "       [ 46,  99, 100,  71],\n",
       "       [ 81,  59,  90, 100]])"
      ]
     },
     "execution_count": 128,
     "metadata": {},
     "output_type": "execute_result"
    }
   ],
   "source": [
    "a = np.array([[1,2,3,4],[46,99,100,71],[81,59,90,100]])\n",
    "a"
   ]
  },
  {
   "cell_type": "code",
   "execution_count": 129,
   "metadata": {},
   "outputs": [
    {
     "data": {
      "text/plain": [
       "array([ 46,  71,  99, 100])"
      ]
     },
     "execution_count": 129,
     "metadata": {},
     "output_type": "execute_result"
    }
   ],
   "source": [
    "# 영어 성적 행을 재정렬\n",
    "b = np.sort(a[1])\n",
    "b"
   ]
  },
  {
   "cell_type": "code",
   "execution_count": 138,
   "metadata": {},
   "outputs": [
    {
     "data": {
      "text/plain": [
       "array([[  1,   4,   2,   3],\n",
       "       [ 46,  71,  99, 100],\n",
       "       [ 81, 100,  59,  90]])"
      ]
     },
     "execution_count": 138,
     "metadata": {},
     "output_type": "execute_result"
    }
   ],
   "source": [
    "# 영어 성적 기준으로 각 열을 재정렬\n",
    "c = np.argsort(a[1])\n",
    "d = (a[0, c], a[1, c], a[2, c])\n",
    "np.vstack(d)"
   ]
  },
  {
   "cell_type": "markdown",
   "metadata": {},
   "source": [
    "### 7. 주사위를 100번 던지는 가상 실험을 파이썬으로 작성하고, 던져서 나오는 숫자의 평균을 구하시오."
   ]
  },
  {
   "cell_type": "code",
   "execution_count": 84,
   "metadata": {},
   "outputs": [
    {
     "name": "stdout",
     "output_type": "stream",
     "text": [
      "[3 3 1 2 2 5 3 3 5 2 1 3 3 5 4 4 4 3 1 1 4 3 2 4 5 1 2 1 3 2 1 5 2 1 3 5 3\n",
      " 1 4 3 4 2 1 1 5 4 5 2 5 4 5 2 1 5 5 1 4 4 3 4 1 4 2 3 3 4 2 5 5 5 3 1 2 2\n",
      " 1 2 2 2 2 3 4 2 1 4 4 5 1 2 4 4 2 4 2 4 4 3 3 1 4 1]\n"
     ]
    },
    {
     "data": {
      "text/plain": [
       "2.93"
      ]
     },
     "execution_count": 84,
     "metadata": {},
     "output_type": "execute_result"
    }
   ],
   "source": [
    "a = np.random.randint(1, 6, 100)\n",
    "print(a)\n",
    "a.mean() # == np.mean(a)"
   ]
  },
  {
   "cell_type": "markdown",
   "metadata": {},
   "source": [
    "### 8. 가격이 10,000원인 주식이 있다. 이 주식의 일간 수익률(%)은 기댓값이 0%이고 표준편차가 1%인 표준 정규 분포를 따른다고 하자. 250일 동안의 주가를 무작위로 생성하시오."
   ]
  },
  {
   "cell_type": "markdown",
   "metadata": {},
   "source": []
  }
 ],
 "metadata": {
  "interpreter": {
   "hash": "57728f4bfd9bc978c25d5c9cdcf277be28bad00a01dc89349b2fca774db23ac6"
  },
  "kernelspec": {
   "display_name": "Python 3.8.8 64-bit ('base': conda)",
   "language": "python",
   "name": "python3"
  },
  "language_info": {
   "codemirror_mode": {
    "name": "ipython",
    "version": 3
   },
   "file_extension": ".py",
   "mimetype": "text/x-python",
   "name": "python",
   "nbconvert_exporter": "python",
   "pygments_lexer": "ipython3",
   "version": "3.8.8"
  },
  "orig_nbformat": 4
 },
 "nbformat": 4,
 "nbformat_minor": 2
}
